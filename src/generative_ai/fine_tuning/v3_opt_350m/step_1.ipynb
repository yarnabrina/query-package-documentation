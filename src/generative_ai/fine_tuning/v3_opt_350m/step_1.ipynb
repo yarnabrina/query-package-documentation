{
    "cells": [
        {
            "cell_type": "code",
            "execution_count": null,
            "metadata": {},
            "outputs": [],
            "source": [
                "import json\n",
                "import pathlib\n",
                "import shutil\n",
                "\n",
                "from datasets import Dataset, DatasetDict"
            ]
        },
        {
            "cell_type": "code",
            "execution_count": null,
            "metadata": {},
            "outputs": [],
            "source": [
                "step_identifier = pathlib.Path(\"step_1\")\n",
                "\n",
                "input_directory = pathlib.Path(step_identifier, \"input_directory\")\n",
                "working_directory = pathlib.Path(step_identifier, \"working_directory\")\n",
                "output_directory = pathlib.Path(step_identifier, \"output_directory\")"
            ]
        },
        {
            "cell_type": "code",
            "execution_count": null,
            "metadata": {},
            "outputs": [],
            "source": [
                "raw_dataset_path = pathlib.Path(input_directory, \"json_documents.json\")\n",
                "\n",
                "hugging_face_dataset_path = pathlib.Path(working_directory, \"hugging_face_dataset_directory\")\n",
                "hugging_face_dataset_archive = pathlib.Path(output_directory, \"hugging_face_dataset_archive.zip\")"
            ]
        },
        {
            "cell_type": "code",
            "execution_count": null,
            "metadata": {},
            "outputs": [],
            "source": [
                "with raw_dataset_path.open(encoding=\"utf-8\") as file_object:\n",
                "    raw_dataset = json.load(file_object)"
            ]
        },
        {
            "cell_type": "code",
            "execution_count": null,
            "metadata": {},
            "outputs": [],
            "source": [
                "dataset_splits = {split_type: [] for split_type in [\"train\", \"validation\", \"test\"]}\n",
                "\n",
                "for document in raw_dataset[\"tuning_documents\"]:\n",
                "    dataset_splits[document[\"split\"]].append(document)"
            ]
        },
        {
            "cell_type": "code",
            "execution_count": null,
            "metadata": {},
            "outputs": [],
            "source": [
                "hugging_face_dataset = DatasetDict(\n",
                "    {\n",
                "        split_type: Dataset.from_list(split_data)\n",
                "        for split_type, split_data in dataset_splits.items()\n",
                "    }\n",
                ")"
            ]
        },
        {
            "cell_type": "code",
            "execution_count": null,
            "metadata": {},
            "outputs": [],
            "source": [
                "hugging_face_dataset.save_to_disk(hugging_face_dataset_path)"
            ]
        },
        {
            "cell_type": "code",
            "execution_count": null,
            "metadata": {},
            "outputs": [],
            "source": [
                "_ = shutil.make_archive(\n",
                "    str(pathlib.Path(hugging_face_dataset_archive.parent, hugging_face_dataset_archive.stem)),\n",
                "    hugging_face_dataset_archive.suffix[1:],\n",
                "    root_dir=working_directory,\n",
                "    base_dir=hugging_face_dataset_path.stem,\n",
                ")"
            ]
        }
    ],
    "metadata": {
        "kernelspec": {
            "display_name": "genai",
            "language": "python",
            "name": "python3"
        },
        "language_info": {
            "codemirror_mode": {
                "name": "ipython",
                "version": 3
            },
            "file_extension": ".py",
            "mimetype": "text/x-python",
            "name": "python",
            "nbconvert_exporter": "python",
            "pygments_lexer": "ipython3",
            "version": "3.11.5"
        }
    },
    "nbformat": 4,
    "nbformat_minor": 2
}
