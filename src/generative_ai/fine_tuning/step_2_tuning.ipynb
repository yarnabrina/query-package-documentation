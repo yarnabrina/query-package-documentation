{
    "cells": [
        {
            "cell_type": "code",
            "execution_count": 1,
            "metadata": {
                "colab": {
                    "base_uri": "https://localhost:8080/"
                },
                "id": "HHEHKsv3g2l8",
                "outputId": "48518ae9-c7de-4dcc-af5c-20dc47d0ea8b"
            },
            "outputs": [
                {
                    "name": "stdout",
                    "output_type": "stream",
                    "text": [
                        "Looking in indexes: https://pypi.org/simple, https://download.pytorch.org/whl/cu118\n",
                        "Requirement already satisfied: accelerate in /usr/local/lib/python3.10/dist-packages (from -r requirements.txt (line 1)) (0.25.0)\n",
                        "Requirement already satisfied: bitsandbytes in /usr/local/lib/python3.10/dist-packages (from -r requirements.txt (line 2)) (0.41.3)\n",
                        "Requirement already satisfied: datasets in /usr/local/lib/python3.10/dist-packages (from -r requirements.txt (line 3)) (2.15.0)\n",
                        "Requirement already satisfied: peft in /usr/local/lib/python3.10/dist-packages (from -r requirements.txt (line 4)) (0.7.0)\n",
                        "Requirement already satisfied: safetensors in /usr/local/lib/python3.10/dist-packages (from -r requirements.txt (line 5)) (0.4.1)\n",
                        "Requirement already satisfied: torch in /usr/local/lib/python3.10/dist-packages (from -r requirements.txt (line 6)) (2.1.1+cu118)\n",
                        "Requirement already satisfied: transformers in /usr/local/lib/python3.10/dist-packages (from -r requirements.txt (line 7)) (4.35.2)\n",
                        "Requirement already satisfied: trl in /usr/local/lib/python3.10/dist-packages (from -r requirements.txt (line 8)) (0.7.4)\n",
                        "Requirement already satisfied: numpy>=1.17 in /usr/local/lib/python3.10/dist-packages (from accelerate->-r requirements.txt (line 1)) (1.23.5)\n",
                        "Requirement already satisfied: packaging>=20.0 in /usr/local/lib/python3.10/dist-packages (from accelerate->-r requirements.txt (line 1)) (23.2)\n",
                        "Requirement already satisfied: psutil in /usr/local/lib/python3.10/dist-packages (from accelerate->-r requirements.txt (line 1)) (5.9.5)\n",
                        "Requirement already satisfied: pyyaml in /usr/local/lib/python3.10/dist-packages (from accelerate->-r requirements.txt (line 1)) (6.0.1)\n",
                        "Requirement already satisfied: huggingface-hub in /usr/local/lib/python3.10/dist-packages (from accelerate->-r requirements.txt (line 1)) (0.19.4)\n",
                        "Requirement already satisfied: pyarrow>=8.0.0 in /usr/local/lib/python3.10/dist-packages (from datasets->-r requirements.txt (line 3)) (9.0.0)\n",
                        "Requirement already satisfied: pyarrow-hotfix in /usr/local/lib/python3.10/dist-packages (from datasets->-r requirements.txt (line 3)) (0.6)\n",
                        "Requirement already satisfied: dill<0.3.8,>=0.3.0 in /usr/local/lib/python3.10/dist-packages (from datasets->-r requirements.txt (line 3)) (0.3.7)\n",
                        "Requirement already satisfied: pandas in /usr/local/lib/python3.10/dist-packages (from datasets->-r requirements.txt (line 3)) (1.5.3)\n",
                        "Requirement already satisfied: requests>=2.19.0 in /usr/local/lib/python3.10/dist-packages (from datasets->-r requirements.txt (line 3)) (2.31.0)\n",
                        "Requirement already satisfied: tqdm>=4.62.1 in /usr/local/lib/python3.10/dist-packages (from datasets->-r requirements.txt (line 3)) (4.66.1)\n",
                        "Requirement already satisfied: xxhash in /usr/local/lib/python3.10/dist-packages (from datasets->-r requirements.txt (line 3)) (3.4.1)\n",
                        "Requirement already satisfied: multiprocess in /usr/local/lib/python3.10/dist-packages (from datasets->-r requirements.txt (line 3)) (0.70.15)\n",
                        "Requirement already satisfied: fsspec[http]<=2023.10.0,>=2023.1.0 in /usr/local/lib/python3.10/dist-packages (from datasets->-r requirements.txt (line 3)) (2023.6.0)\n",
                        "Requirement already satisfied: aiohttp in /usr/local/lib/python3.10/dist-packages (from datasets->-r requirements.txt (line 3)) (3.9.1)\n",
                        "Requirement already satisfied: filelock in /usr/local/lib/python3.10/dist-packages (from torch->-r requirements.txt (line 6)) (3.13.1)\n",
                        "Requirement already satisfied: typing-extensions in /usr/local/lib/python3.10/dist-packages (from torch->-r requirements.txt (line 6)) (4.5.0)\n",
                        "Requirement already satisfied: sympy in /usr/local/lib/python3.10/dist-packages (from torch->-r requirements.txt (line 6)) (1.12)\n",
                        "Requirement already satisfied: networkx in /usr/local/lib/python3.10/dist-packages (from torch->-r requirements.txt (line 6)) (3.2.1)\n",
                        "Requirement already satisfied: jinja2 in /usr/local/lib/python3.10/dist-packages (from torch->-r requirements.txt (line 6)) (3.1.2)\n",
                        "Requirement already satisfied: triton==2.1.0 in /usr/local/lib/python3.10/dist-packages (from torch->-r requirements.txt (line 6)) (2.1.0)\n",
                        "Requirement already satisfied: regex!=2019.12.17 in /usr/local/lib/python3.10/dist-packages (from transformers->-r requirements.txt (line 7)) (2023.6.3)\n",
                        "Requirement already satisfied: tokenizers<0.19,>=0.14 in /usr/local/lib/python3.10/dist-packages (from transformers->-r requirements.txt (line 7)) (0.15.0)\n",
                        "Requirement already satisfied: tyro>=0.5.11 in /usr/local/lib/python3.10/dist-packages (from trl->-r requirements.txt (line 8)) (0.6.0)\n",
                        "Requirement already satisfied: attrs>=17.3.0 in /usr/local/lib/python3.10/dist-packages (from aiohttp->datasets->-r requirements.txt (line 3)) (23.1.0)\n",
                        "Requirement already satisfied: multidict<7.0,>=4.5 in /usr/local/lib/python3.10/dist-packages (from aiohttp->datasets->-r requirements.txt (line 3)) (6.0.4)\n",
                        "Requirement already satisfied: yarl<2.0,>=1.0 in /usr/local/lib/python3.10/dist-packages (from aiohttp->datasets->-r requirements.txt (line 3)) (1.9.3)\n",
                        "Requirement already satisfied: frozenlist>=1.1.1 in /usr/local/lib/python3.10/dist-packages (from aiohttp->datasets->-r requirements.txt (line 3)) (1.4.0)\n",
                        "Requirement already satisfied: aiosignal>=1.1.2 in /usr/local/lib/python3.10/dist-packages (from aiohttp->datasets->-r requirements.txt (line 3)) (1.3.1)\n",
                        "Requirement already satisfied: async-timeout<5.0,>=4.0 in /usr/local/lib/python3.10/dist-packages (from aiohttp->datasets->-r requirements.txt (line 3)) (4.0.3)\n",
                        "Requirement already satisfied: charset-normalizer<4,>=2 in /usr/local/lib/python3.10/dist-packages (from requests>=2.19.0->datasets->-r requirements.txt (line 3)) (3.3.2)\n",
                        "Requirement already satisfied: idna<4,>=2.5 in /usr/local/lib/python3.10/dist-packages (from requests>=2.19.0->datasets->-r requirements.txt (line 3)) (3.6)\n",
                        "Requirement already satisfied: urllib3<3,>=1.21.1 in /usr/local/lib/python3.10/dist-packages (from requests>=2.19.0->datasets->-r requirements.txt (line 3)) (2.0.7)\n",
                        "Requirement already satisfied: certifi>=2017.4.17 in /usr/local/lib/python3.10/dist-packages (from requests>=2.19.0->datasets->-r requirements.txt (line 3)) (2023.11.17)\n",
                        "Requirement already satisfied: docstring-parser>=0.14.1 in /usr/local/lib/python3.10/dist-packages (from tyro>=0.5.11->trl->-r requirements.txt (line 8)) (0.15)\n",
                        "Requirement already satisfied: rich>=11.1.0 in /usr/local/lib/python3.10/dist-packages (from tyro>=0.5.11->trl->-r requirements.txt (line 8)) (13.7.0)\n",
                        "Requirement already satisfied: shtab>=1.5.6 in /usr/local/lib/python3.10/dist-packages (from tyro>=0.5.11->trl->-r requirements.txt (line 8)) (1.6.5)\n",
                        "Requirement already satisfied: MarkupSafe>=2.0 in /usr/local/lib/python3.10/dist-packages (from jinja2->torch->-r requirements.txt (line 6)) (2.1.3)\n",
                        "Requirement already satisfied: python-dateutil>=2.8.1 in /usr/local/lib/python3.10/dist-packages (from pandas->datasets->-r requirements.txt (line 3)) (2.8.2)\n",
                        "Requirement already satisfied: pytz>=2020.1 in /usr/local/lib/python3.10/dist-packages (from pandas->datasets->-r requirements.txt (line 3)) (2023.3.post1)\n",
                        "Requirement already satisfied: mpmath>=0.19 in /usr/local/lib/python3.10/dist-packages (from sympy->torch->-r requirements.txt (line 6)) (1.3.0)\n",
                        "Requirement already satisfied: six>=1.5 in /usr/local/lib/python3.10/dist-packages (from python-dateutil>=2.8.1->pandas->datasets->-r requirements.txt (line 3)) (1.16.0)\n",
                        "Requirement already satisfied: markdown-it-py>=2.2.0 in /usr/local/lib/python3.10/dist-packages (from rich>=11.1.0->tyro>=0.5.11->trl->-r requirements.txt (line 8)) (3.0.0)\n",
                        "Requirement already satisfied: pygments<3.0.0,>=2.13.0 in /usr/local/lib/python3.10/dist-packages (from rich>=11.1.0->tyro>=0.5.11->trl->-r requirements.txt (line 8)) (2.16.1)\n",
                        "Requirement already satisfied: mdurl~=0.1 in /usr/local/lib/python3.10/dist-packages (from markdown-it-py>=2.2.0->rich>=11.1.0->tyro>=0.5.11->trl->-r requirements.txt (line 8)) (0.1.2)\n"
                    ]
                }
            ],
            "source": [
                "!python3 -m pip install \\\n",
                "    --upgrade \\\n",
                "    --requirement requirements.txt \\\n",
                "    --constraint constraints.txt \\\n",
                "    --extra-index-url https://download.pytorch.org/whl/cu118"
            ]
        },
        {
            "cell_type": "code",
            "execution_count": 2,
            "metadata": {
                "id": "_x4RfffVg8Nw"
            },
            "outputs": [],
            "source": [
                "import gc\n",
                "import pathlib\n",
                "import shutil\n",
                "\n",
                "import peft\n",
                "import torch\n",
                "import transformers"
            ]
        },
        {
            "cell_type": "code",
            "execution_count": 3,
            "metadata": {
                "id": "rNebA6JYg8Lo"
            },
            "outputs": [],
            "source": [
                "base_model_identifier = \"HuggingFaceH4/zephyr-7b-beta\"\n",
                "tuned_adapter_archive = pathlib.Path(\"tuned_zephyr_adaptr_archive.zip\")\n",
                "tuned_adapter_directory = pathlib.Path(\"tuned_zephyr_adapter_directory\")\n",
                "\n",
                "prompt = \"\"\"You are a chat assistant to help new users for a Python package.\n",
                "\n",
                "1. You will be provided with a specific question and a context relevant to answer that question.\n",
                "2. Your response should be based solely on the given context.\n",
                "3. Keep your answer concise, not exceeding five sentences.\n",
                "4. If the answer is not found within the context, respond with \"I do not know.\".\n",
                "5. Do not fabricate any information.\n",
                "\n",
                "Context: 'subtract_numbers' function documents itself as follows: 'Perform subtraction of two real numbers.'.\n",
                "\n",
                "Based on docstring, return of 'subtract_numbers' function is as follows: 'difference of ``first_number`` from ``second_number``'.\n",
                "\n",
                "Based on docstring, return of 'add_numbers' function is as follows: 'sum of ``first_number`` and ``second_number``'.\n",
                "Question: Tell me how to add the number 2 and 3, and subtract the result by 5.\n",
                "\n",
                "Answer:\"\"\""
            ]
        },
        {
            "cell_type": "code",
            "execution_count": 4,
            "metadata": {
                "id": "zQhbiErbrad3"
            },
            "outputs": [],
            "source": [
                "shutil.unpack_archive(tuned_adapter_archive, tuned_adapter_directory)"
            ]
        },
        {
            "cell_type": "code",
            "execution_count": 5,
            "metadata": {
                "id": "1X72BtfjxHQo"
            },
            "outputs": [],
            "source": [
                "quantisation_configuration = transformers.BitsAndBytesConfig(\n",
                "    load_in_4bit=True,\n",
                "    bnb_4bit_compute_dtype=\"float16\",\n",
                "    bnb_4bit_quant_type=\"nf4\",\n",
                "    bnb_4bit_use_double_quant=False,\n",
                ")"
            ]
        },
        {
            "cell_type": "code",
            "execution_count": 6,
            "metadata": {
                "colab": {
                    "base_uri": "https://localhost:8080/",
                    "height": 49,
                    "referenced_widgets": [
                        "6e3f0ea9ed8b4d019f8da74f82dc2fb3",
                        "861cb7a6a84840ac85ec4f55f1428bc5",
                        "1a6c9624861c499ca7d7f47f78a2f730",
                        "5e30bb776e1e462385fc8727b0a7291c",
                        "8146ae8bf6a946fba84e6ee409dbe87c",
                        "8671b8a2f8174a89aca1b7148b95ea17",
                        "dc8c3007bee0471cad92490aad6987d4",
                        "1bb8dfadf9ae4d94b74c1526c2231391",
                        "5b6febdebf084ee4a8c0bd933017f4ec",
                        "8b9bea5823a3474a918af514c75ad5d9",
                        "54e415d7d3c343378e23b6645121bf48"
                    ]
                },
                "id": "TT26-TkexIFb",
                "outputId": "a38cbab8-abb8-4d63-f03c-33ddec27bb16"
            },
            "outputs": [
                {
                    "data": {
                        "application/vnd.jupyter.widget-view+json": {
                            "model_id": "6e3f0ea9ed8b4d019f8da74f82dc2fb3",
                            "version_major": 2,
                            "version_minor": 0
                        },
                        "text/plain": [
                            "Loading checkpoint shards:   0%|          | 0/8 [00:00<?, ?it/s]"
                        ]
                    },
                    "metadata": {},
                    "output_type": "display_data"
                }
            ],
            "source": [
                "untuned_model = transformers.AutoModelForCausalLM.from_pretrained(\n",
                "    base_model_identifier, quantization_config=quantisation_configuration, device_map={\"\": 0}\n",
                ")"
            ]
        },
        {
            "cell_type": "code",
            "execution_count": 7,
            "metadata": {
                "id": "KvT6GlMGxIC1"
            },
            "outputs": [],
            "source": [
                "tokeniser = transformers.AutoTokenizer.from_pretrained(base_model_identifier)\n",
                "tokeniser.pad_token = tokeniser.eos_token\n",
                "tokeniser.padding_side = \"right\""
            ]
        },
        {
            "cell_type": "code",
            "execution_count": 8,
            "metadata": {
                "id": "RlzKc0x6tTzT"
            },
            "outputs": [],
            "source": [
                "untuned_pipeline = transformers.pipeline(\n",
                "    \"text-generation\",\n",
                "    model=untuned_model,\n",
                "    tokenizer=tokeniser,\n",
                "    device_map={\"\": 0},\n",
                "    torch_dtype=torch.float16,\n",
                "    model_kwargs={\"low_cpu_mem_usage\": True},\n",
                "    max_new_tokens=256,\n",
                "    do_sample=True,\n",
                "    top_k=1,\n",
                ")"
            ]
        },
        {
            "cell_type": "code",
            "execution_count": 9,
            "metadata": {
                "colab": {
                    "base_uri": "https://localhost:8080/"
                },
                "id": "h7GYSy5rtcuF",
                "outputId": "007b98ff-f318-4d72-a8d7-f580981c059a"
            },
            "outputs": [
                {
                    "name": "stderr",
                    "output_type": "stream",
                    "text": [
                        "/usr/local/lib/python3.10/dist-packages/transformers/generation/utils.py:1473: UserWarning: You have modified the pretrained model configuration to control generation. This is a deprecated strategy to control generation and will be removed soon, in a future version. Please use and modify the model generation configuration (see https://huggingface.co/docs/transformers/generation_strategies#default-text-generation-configuration )\n",
                        "  warnings.warn(\n"
                    ]
                },
                {
                    "data": {
                        "text/plain": [
                            "[{'generated_text': 'You are a chat assistant to help new users for a Python package.\\n\\n1. You will be provided with a specific question and a context relevant to answer that question.\\n2. Your response should be based solely on the given context.\\n3. Keep your answer concise, not exceeding five sentences.\\n4. If the answer is not found within the context, respond with \"I do not know.\".\\n5. Do not fabricate any information.\\n\\nContext: \\'subtract_numbers\\' function documents itself as follows: \\'Perform subtraction of two real numbers.\\'.\\n\\nBased on docstring, return of \\'subtract_numbers\\' function is as follows: \\'difference of ``first_number`` from ``second_number``\\'.\\n\\nBased on docstring, return of \\'add_numbers\\' function is as follows: \\'sum of ``first_number`` and ``second_number``\\'.\\nQuestion: Tell me how to add the number 2 and 3, and subtract the result by 5.\\n\\nAnswer: To add 2 and 3, you can use our \\'add_numbers\\' function. The return value will be the sum of 2 and 3, which is 5. To subtract 5 from the sum, you can use our\\'subtract_numbers\\' function. The result will be the difference between the sum and 5, which is 0. You can call these functions as follows:\\n\\nadd_result = add_numbers(2, 3)\\nsubtract_result = subtract_numbers(add_result, 5)\\n\\nprint(subtract_result)  # Output: 0\\n\\nNote: The \\'add_numbers\\' and\\'subtract_numbers\\' functions are hypothetical and may not exist in the Python package you are using. This example is provided to demonstrate how to use the functions based on their documented behavior.'}]"
                        ]
                    },
                    "execution_count": 9,
                    "metadata": {},
                    "output_type": "execute_result"
                }
            ],
            "source": [
                "untuned_pipeline(prompt)"
            ]
        },
        {
            "cell_type": "code",
            "execution_count": 10,
            "metadata": {
                "id": "uSnl9XiJ0vuX"
            },
            "outputs": [],
            "source": [
                "tuned_model = peft.PeftModel.from_pretrained(untuned_model, tuned_adapter_directory)"
            ]
        },
        {
            "cell_type": "code",
            "execution_count": 11,
            "metadata": {
                "colab": {
                    "base_uri": "https://localhost:8080/"
                },
                "id": "z6rNGZDCy6tB",
                "outputId": "84f73113-a4ec-4de7-83fb-c45eb72202d2"
            },
            "outputs": [
                {
                    "name": "stderr",
                    "output_type": "stream",
                    "text": [
                        "The model 'PeftModelForCausalLM' is not supported for text-generation. Supported models are ['BartForCausalLM', 'BertLMHeadModel', 'BertGenerationDecoder', 'BigBirdForCausalLM', 'BigBirdPegasusForCausalLM', 'BioGptForCausalLM', 'BlenderbotForCausalLM', 'BlenderbotSmallForCausalLM', 'BloomForCausalLM', 'CamembertForCausalLM', 'LlamaForCausalLM', 'CodeGenForCausalLM', 'CpmAntForCausalLM', 'CTRLLMHeadModel', 'Data2VecTextForCausalLM', 'ElectraForCausalLM', 'ErnieForCausalLM', 'FalconForCausalLM', 'FuyuForCausalLM', 'GitForCausalLM', 'GPT2LMHeadModel', 'GPT2LMHeadModel', 'GPTBigCodeForCausalLM', 'GPTNeoForCausalLM', 'GPTNeoXForCausalLM', 'GPTNeoXJapaneseForCausalLM', 'GPTJForCausalLM', 'LlamaForCausalLM', 'MarianForCausalLM', 'MBartForCausalLM', 'MegaForCausalLM', 'MegatronBertForCausalLM', 'MistralForCausalLM', 'MptForCausalLM', 'MusicgenForCausalLM', 'MvpForCausalLM', 'OpenLlamaForCausalLM', 'OpenAIGPTLMHeadModel', 'OPTForCausalLM', 'PegasusForCausalLM', 'PersimmonForCausalLM', 'PLBartForCausalLM', 'ProphetNetForCausalLM', 'QDQBertLMHeadModel', 'ReformerModelWithLMHead', 'RemBertForCausalLM', 'RobertaForCausalLM', 'RobertaPreLayerNormForCausalLM', 'RoCBertForCausalLM', 'RoFormerForCausalLM', 'RwkvForCausalLM', 'Speech2Text2ForCausalLM', 'TransfoXLLMHeadModel', 'TrOCRForCausalLM', 'WhisperForCausalLM', 'XGLMForCausalLM', 'XLMWithLMHeadModel', 'XLMProphetNetForCausalLM', 'XLMRobertaForCausalLM', 'XLMRobertaXLForCausalLM', 'XLNetLMHeadModel', 'XmodForCausalLM'].\n"
                    ]
                }
            ],
            "source": [
                "tuned_pipeline = transformers.pipeline(\n",
                "    \"text-generation\",\n",
                "    model=tuned_model,\n",
                "    tokenizer=tokeniser,\n",
                "    device_map={\"\": 0},\n",
                "    torch_dtype=torch.float16,\n",
                "    model_kwargs={\"low_cpu_mem_usage\": True},\n",
                "    max_new_tokens=256,\n",
                "    do_sample=True,\n",
                "    top_k=1,\n",
                ")"
            ]
        },
        {
            "cell_type": "code",
            "execution_count": 12,
            "metadata": {
                "colab": {
                    "base_uri": "https://localhost:8080/"
                },
                "id": "jx3qPILo1wAQ",
                "outputId": "d19835f3-c170-4611-eac9-d413fc64e765"
            },
            "outputs": [
                {
                    "data": {
                        "text/plain": [
                            "[{'generated_text': 'You are a chat assistant to help new users for a Python package.\\n\\n1. You will be provided with a specific question and a context relevant to answer that question.\\n2. Your response should be based solely on the given context.\\n3. Keep your answer concise, not exceeding five sentences.\\n4. If the answer is not found within the context, respond with \"I do not know.\".\\n5. Do not fabricate any information.\\n\\nContext: \\'subtract_numbers\\' function documents itself as follows: \\'Perform subtraction of two real numbers.\\'.\\n\\nBased on docstring, return of \\'subtract_numbers\\' function is as follows: \\'difference of ``first_number`` from ``second_number``\\'.\\n\\nBased on docstring, return of \\'add_numbers\\' function is as follows: \\'sum of ``first_number`` and ``second_number``\\'.\\nQuestion: Tell me how to add the number 2 and 3, and subtract the result by 5.\\n\\nAnswer:\\n    The number of members in the Yielded\\nif first number is ``second_number`` from ``float`\\'. 6. subtract_numbers. Parentheses\\n\\nThe number of members incurs\\n\\nReturns :\\n    Parentheses of second number\\n\\nRaises\\nif ``second_number`` is ``float``\\n\\n    The number of members in ``Parentheses``\\n\\nExamples\\n\\nReturns:\\n    If the number of members in parentheses of ``second_number``\\n\\nRaises\\nAdditions\\n\\nExamples\\n\\nDays are not assigned\\n    Tells\\n\\nRaises\\n\\nExamples\\n----------------\\nfloat\\n    numbers\\n\\nExamples\\n\\n`` second_number ``first_number`` and ``second_number``\\n\\nExamples\\n----------------\\n.. code-block:: pycon\\n\\n    >>> from package_name_to_import_with ``first_number``\\n\\n    >>> Parentheses(1, \"+2)\\n    -2.0\\n    >>> get_negative(1)\\n    -2.0\\')\\n    -1.0\\n    >>> Difference(1, 2)\\n    '}]"
                        ]
                    },
                    "execution_count": 12,
                    "metadata": {},
                    "output_type": "execute_result"
                }
            ],
            "source": [
                "tuned_pipeline(prompt)"
            ]
        },
        {
            "cell_type": "code",
            "execution_count": 13,
            "metadata": {
                "id": "uB13FNir26ka"
            },
            "outputs": [],
            "source": [
                "del tuned_pipeline\n",
                "del tuned_model\n",
                "del untuned_pipeline\n",
                "del tokeniser\n",
                "del untuned_model"
            ]
        },
        {
            "cell_type": "code",
            "execution_count": 14,
            "metadata": {
                "colab": {
                    "base_uri": "https://localhost:8080/"
                },
                "id": "6c4pSk564Iu8",
                "outputId": "c028ce8f-513a-425d-9e98-a976c40785c2"
            },
            "outputs": [
                {
                    "data": {
                        "text/plain": [
                            "126"
                        ]
                    },
                    "execution_count": 14,
                    "metadata": {},
                    "output_type": "execute_result"
                }
            ],
            "source": [
                "gc.collect()"
            ]
        },
        {
            "cell_type": "code",
            "execution_count": 15,
            "metadata": {
                "id": "1m6DFd2B4KWr"
            },
            "outputs": [],
            "source": [
                "torch.cuda.empty_cache()"
            ]
        }
    ],
    "metadata": {
        "accelerator": "GPU",
        "colab": {
            "gpuType": "T4",
            "provenance": []
        },
        "kernelspec": {
            "display_name": "Python 3",
            "name": "python3"
        },
        "language_info": {
            "name": "python"
        },
        "widgets": {
            "application/vnd.jupyter.widget-state+json": {
                "1a6c9624861c499ca7d7f47f78a2f730": {
                    "model_module": "@jupyter-widgets/controls",
                    "model_module_version": "1.5.0",
                    "model_name": "FloatProgressModel",
                    "state": {
                        "_dom_classes": [],
                        "_model_module": "@jupyter-widgets/controls",
                        "_model_module_version": "1.5.0",
                        "_model_name": "FloatProgressModel",
                        "_view_count": null,
                        "_view_module": "@jupyter-widgets/controls",
                        "_view_module_version": "1.5.0",
                        "_view_name": "ProgressView",
                        "bar_style": "success",
                        "description": "",
                        "description_tooltip": null,
                        "layout": "IPY_MODEL_1bb8dfadf9ae4d94b74c1526c2231391",
                        "max": 8,
                        "min": 0,
                        "orientation": "horizontal",
                        "style": "IPY_MODEL_5b6febdebf084ee4a8c0bd933017f4ec",
                        "value": 8
                    }
                },
                "1bb8dfadf9ae4d94b74c1526c2231391": {
                    "model_module": "@jupyter-widgets/base",
                    "model_module_version": "1.2.0",
                    "model_name": "LayoutModel",
                    "state": {
                        "_model_module": "@jupyter-widgets/base",
                        "_model_module_version": "1.2.0",
                        "_model_name": "LayoutModel",
                        "_view_count": null,
                        "_view_module": "@jupyter-widgets/base",
                        "_view_module_version": "1.2.0",
                        "_view_name": "LayoutView",
                        "align_content": null,
                        "align_items": null,
                        "align_self": null,
                        "border": null,
                        "bottom": null,
                        "display": null,
                        "flex": null,
                        "flex_flow": null,
                        "grid_area": null,
                        "grid_auto_columns": null,
                        "grid_auto_flow": null,
                        "grid_auto_rows": null,
                        "grid_column": null,
                        "grid_gap": null,
                        "grid_row": null,
                        "grid_template_areas": null,
                        "grid_template_columns": null,
                        "grid_template_rows": null,
                        "height": null,
                        "justify_content": null,
                        "justify_items": null,
                        "left": null,
                        "margin": null,
                        "max_height": null,
                        "max_width": null,
                        "min_height": null,
                        "min_width": null,
                        "object_fit": null,
                        "object_position": null,
                        "order": null,
                        "overflow": null,
                        "overflow_x": null,
                        "overflow_y": null,
                        "padding": null,
                        "right": null,
                        "top": null,
                        "visibility": null,
                        "width": null
                    }
                },
                "54e415d7d3c343378e23b6645121bf48": {
                    "model_module": "@jupyter-widgets/controls",
                    "model_module_version": "1.5.0",
                    "model_name": "DescriptionStyleModel",
                    "state": {
                        "_model_module": "@jupyter-widgets/controls",
                        "_model_module_version": "1.5.0",
                        "_model_name": "DescriptionStyleModel",
                        "_view_count": null,
                        "_view_module": "@jupyter-widgets/base",
                        "_view_module_version": "1.2.0",
                        "_view_name": "StyleView",
                        "description_width": ""
                    }
                },
                "5b6febdebf084ee4a8c0bd933017f4ec": {
                    "model_module": "@jupyter-widgets/controls",
                    "model_module_version": "1.5.0",
                    "model_name": "ProgressStyleModel",
                    "state": {
                        "_model_module": "@jupyter-widgets/controls",
                        "_model_module_version": "1.5.0",
                        "_model_name": "ProgressStyleModel",
                        "_view_count": null,
                        "_view_module": "@jupyter-widgets/base",
                        "_view_module_version": "1.2.0",
                        "_view_name": "StyleView",
                        "bar_color": null,
                        "description_width": ""
                    }
                },
                "5e30bb776e1e462385fc8727b0a7291c": {
                    "model_module": "@jupyter-widgets/controls",
                    "model_module_version": "1.5.0",
                    "model_name": "HTMLModel",
                    "state": {
                        "_dom_classes": [],
                        "_model_module": "@jupyter-widgets/controls",
                        "_model_module_version": "1.5.0",
                        "_model_name": "HTMLModel",
                        "_view_count": null,
                        "_view_module": "@jupyter-widgets/controls",
                        "_view_module_version": "1.5.0",
                        "_view_name": "HTMLView",
                        "description": "",
                        "description_tooltip": null,
                        "layout": "IPY_MODEL_8b9bea5823a3474a918af514c75ad5d9",
                        "placeholder": "\u200b",
                        "style": "IPY_MODEL_54e415d7d3c343378e23b6645121bf48",
                        "value": " 8/8 [01:20&lt;00:00,  8.30s/it]"
                    }
                },
                "6e3f0ea9ed8b4d019f8da74f82dc2fb3": {
                    "model_module": "@jupyter-widgets/controls",
                    "model_module_version": "1.5.0",
                    "model_name": "HBoxModel",
                    "state": {
                        "_dom_classes": [],
                        "_model_module": "@jupyter-widgets/controls",
                        "_model_module_version": "1.5.0",
                        "_model_name": "HBoxModel",
                        "_view_count": null,
                        "_view_module": "@jupyter-widgets/controls",
                        "_view_module_version": "1.5.0",
                        "_view_name": "HBoxView",
                        "box_style": "",
                        "children": [
                            "IPY_MODEL_861cb7a6a84840ac85ec4f55f1428bc5",
                            "IPY_MODEL_1a6c9624861c499ca7d7f47f78a2f730",
                            "IPY_MODEL_5e30bb776e1e462385fc8727b0a7291c"
                        ],
                        "layout": "IPY_MODEL_8146ae8bf6a946fba84e6ee409dbe87c"
                    }
                },
                "8146ae8bf6a946fba84e6ee409dbe87c": {
                    "model_module": "@jupyter-widgets/base",
                    "model_module_version": "1.2.0",
                    "model_name": "LayoutModel",
                    "state": {
                        "_model_module": "@jupyter-widgets/base",
                        "_model_module_version": "1.2.0",
                        "_model_name": "LayoutModel",
                        "_view_count": null,
                        "_view_module": "@jupyter-widgets/base",
                        "_view_module_version": "1.2.0",
                        "_view_name": "LayoutView",
                        "align_content": null,
                        "align_items": null,
                        "align_self": null,
                        "border": null,
                        "bottom": null,
                        "display": null,
                        "flex": null,
                        "flex_flow": null,
                        "grid_area": null,
                        "grid_auto_columns": null,
                        "grid_auto_flow": null,
                        "grid_auto_rows": null,
                        "grid_column": null,
                        "grid_gap": null,
                        "grid_row": null,
                        "grid_template_areas": null,
                        "grid_template_columns": null,
                        "grid_template_rows": null,
                        "height": null,
                        "justify_content": null,
                        "justify_items": null,
                        "left": null,
                        "margin": null,
                        "max_height": null,
                        "max_width": null,
                        "min_height": null,
                        "min_width": null,
                        "object_fit": null,
                        "object_position": null,
                        "order": null,
                        "overflow": null,
                        "overflow_x": null,
                        "overflow_y": null,
                        "padding": null,
                        "right": null,
                        "top": null,
                        "visibility": null,
                        "width": null
                    }
                },
                "861cb7a6a84840ac85ec4f55f1428bc5": {
                    "model_module": "@jupyter-widgets/controls",
                    "model_module_version": "1.5.0",
                    "model_name": "HTMLModel",
                    "state": {
                        "_dom_classes": [],
                        "_model_module": "@jupyter-widgets/controls",
                        "_model_module_version": "1.5.0",
                        "_model_name": "HTMLModel",
                        "_view_count": null,
                        "_view_module": "@jupyter-widgets/controls",
                        "_view_module_version": "1.5.0",
                        "_view_name": "HTMLView",
                        "description": "",
                        "description_tooltip": null,
                        "layout": "IPY_MODEL_8671b8a2f8174a89aca1b7148b95ea17",
                        "placeholder": "\u200b",
                        "style": "IPY_MODEL_dc8c3007bee0471cad92490aad6987d4",
                        "value": "Loading checkpoint shards: 100%"
                    }
                },
                "8671b8a2f8174a89aca1b7148b95ea17": {
                    "model_module": "@jupyter-widgets/base",
                    "model_module_version": "1.2.0",
                    "model_name": "LayoutModel",
                    "state": {
                        "_model_module": "@jupyter-widgets/base",
                        "_model_module_version": "1.2.0",
                        "_model_name": "LayoutModel",
                        "_view_count": null,
                        "_view_module": "@jupyter-widgets/base",
                        "_view_module_version": "1.2.0",
                        "_view_name": "LayoutView",
                        "align_content": null,
                        "align_items": null,
                        "align_self": null,
                        "border": null,
                        "bottom": null,
                        "display": null,
                        "flex": null,
                        "flex_flow": null,
                        "grid_area": null,
                        "grid_auto_columns": null,
                        "grid_auto_flow": null,
                        "grid_auto_rows": null,
                        "grid_column": null,
                        "grid_gap": null,
                        "grid_row": null,
                        "grid_template_areas": null,
                        "grid_template_columns": null,
                        "grid_template_rows": null,
                        "height": null,
                        "justify_content": null,
                        "justify_items": null,
                        "left": null,
                        "margin": null,
                        "max_height": null,
                        "max_width": null,
                        "min_height": null,
                        "min_width": null,
                        "object_fit": null,
                        "object_position": null,
                        "order": null,
                        "overflow": null,
                        "overflow_x": null,
                        "overflow_y": null,
                        "padding": null,
                        "right": null,
                        "top": null,
                        "visibility": null,
                        "width": null
                    }
                },
                "8b9bea5823a3474a918af514c75ad5d9": {
                    "model_module": "@jupyter-widgets/base",
                    "model_module_version": "1.2.0",
                    "model_name": "LayoutModel",
                    "state": {
                        "_model_module": "@jupyter-widgets/base",
                        "_model_module_version": "1.2.0",
                        "_model_name": "LayoutModel",
                        "_view_count": null,
                        "_view_module": "@jupyter-widgets/base",
                        "_view_module_version": "1.2.0",
                        "_view_name": "LayoutView",
                        "align_content": null,
                        "align_items": null,
                        "align_self": null,
                        "border": null,
                        "bottom": null,
                        "display": null,
                        "flex": null,
                        "flex_flow": null,
                        "grid_area": null,
                        "grid_auto_columns": null,
                        "grid_auto_flow": null,
                        "grid_auto_rows": null,
                        "grid_column": null,
                        "grid_gap": null,
                        "grid_row": null,
                        "grid_template_areas": null,
                        "grid_template_columns": null,
                        "grid_template_rows": null,
                        "height": null,
                        "justify_content": null,
                        "justify_items": null,
                        "left": null,
                        "margin": null,
                        "max_height": null,
                        "max_width": null,
                        "min_height": null,
                        "min_width": null,
                        "object_fit": null,
                        "object_position": null,
                        "order": null,
                        "overflow": null,
                        "overflow_x": null,
                        "overflow_y": null,
                        "padding": null,
                        "right": null,
                        "top": null,
                        "visibility": null,
                        "width": null
                    }
                },
                "dc8c3007bee0471cad92490aad6987d4": {
                    "model_module": "@jupyter-widgets/controls",
                    "model_module_version": "1.5.0",
                    "model_name": "DescriptionStyleModel",
                    "state": {
                        "_model_module": "@jupyter-widgets/controls",
                        "_model_module_version": "1.5.0",
                        "_model_name": "DescriptionStyleModel",
                        "_view_count": null,
                        "_view_module": "@jupyter-widgets/base",
                        "_view_module_version": "1.2.0",
                        "_view_name": "StyleView",
                        "description_width": ""
                    }
                }
            }
        }
    },
    "nbformat": 4,
    "nbformat_minor": 0
}
