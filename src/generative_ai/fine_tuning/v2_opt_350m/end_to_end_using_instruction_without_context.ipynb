{
    "cells": [
        {
            "cell_type": "markdown",
            "metadata": {
                "id": "L3SvNL9aSi1D"
            },
            "source": [
                "# Setup"
            ]
        },
        {
            "cell_type": "markdown",
            "metadata": {
                "id": "PTf5L0qnP7Ae"
            },
            "source": [
                "### Install System Dependencies"
            ]
        },
        {
            "cell_type": "code",
            "execution_count": 1,
            "metadata": {
                "colab": {
                    "base_uri": "https://localhost:8080/"
                },
                "id": "lj96-R3DQBpm",
                "outputId": "8e32ad8e-109a-47ca-dfa7-d700675fa606"
            },
            "outputs": [
                {
                    "name": "stdout",
                    "output_type": "stream",
                    "text": [
                        "\r0% [Working]\r            \rHit:1 https://cloud.r-project.org/bin/linux/ubuntu jammy-cran40/ InRelease\n",
                        "Hit:2 https://developer.download.nvidia.com/compute/cuda/repos/ubuntu2204/x86_64  InRelease\n",
                        "Get:3 http://security.ubuntu.com/ubuntu jammy-security InRelease [110 kB]\n",
                        "Hit:4 http://archive.ubuntu.com/ubuntu jammy InRelease\n",
                        "Get:5 http://archive.ubuntu.com/ubuntu jammy-updates InRelease [119 kB]\n",
                        "Hit:6 https://ppa.launchpadcontent.net/c2d4u.team/c2d4u4.0+/ubuntu jammy InRelease\n",
                        "Hit:7 https://ppa.launchpadcontent.net/deadsnakes/ppa/ubuntu jammy InRelease\n",
                        "Hit:8 http://archive.ubuntu.com/ubuntu jammy-backports InRelease\n",
                        "Hit:9 https://ppa.launchpadcontent.net/graphics-drivers/ppa/ubuntu jammy InRelease\n",
                        "Hit:10 https://ppa.launchpadcontent.net/ubuntugis/ppa/ubuntu jammy InRelease\n",
                        "Fetched 229 kB in 2s (138 kB/s)\n",
                        "Reading package lists... Done\n",
                        "Reading package lists... Done\n",
                        "Building dependency tree... Done\n",
                        "Reading state information... Done\n",
                        "cuda-toolkit-11-8 is already the newest version (11.8.0-1).\n",
                        "0 upgraded, 0 newly installed, 0 to remove and 34 not upgraded.\n"
                    ]
                }
            ],
            "source": [
                "!apt-get update\n",
                "\n",
                "!apt-get install -y --no-install-recommends cuda-toolkit-11-8"
            ]
        },
        {
            "cell_type": "markdown",
            "metadata": {
                "id": "VawLiAtYQK_2"
            },
            "source": [
                "### Mount Google Drive"
            ]
        },
        {
            "cell_type": "code",
            "execution_count": 2,
            "metadata": {
                "colab": {
                    "base_uri": "https://localhost:8080/"
                },
                "id": "yB_bLmhMQUPj",
                "outputId": "e5302776-21f5-47a3-fdc8-3206a0032c3e"
            },
            "outputs": [
                {
                    "name": "stdout",
                    "output_type": "stream",
                    "text": [
                        "Drive already mounted at /content/drive; to attempt to forcibly remount, call drive.mount(\"/content/drive\", force_remount=True).\n"
                    ]
                }
            ],
            "source": [
                "from google.colab import drive\n",
                "\n",
                "drive.mount(\"/content/drive\")"
            ]
        },
        {
            "cell_type": "markdown",
            "metadata": {
                "id": "sP0pvqtdQX_m"
            },
            "source": [
                "### Install Python Dependencies"
            ]
        },
        {
            "cell_type": "code",
            "execution_count": 3,
            "metadata": {
                "colab": {
                    "base_uri": "https://localhost:8080/"
                },
                "id": "tS_mIDckQYVR",
                "outputId": "3a77a61c-cc25-4880-d570-a17a4fb2a26b"
            },
            "outputs": [
                {
                    "name": "stdout",
                    "output_type": "stream",
                    "text": [
                        "Looking in indexes: https://pypi.org/simple, https://download.pytorch.org/whl/cu118\n",
                        "Requirement already satisfied: accelerate in /usr/local/lib/python3.10/dist-packages (from -r /content/drive/MyDrive/2024-01-26/requirements.fine_tuning.txt (line 1)) (0.26.1)\n",
                        "Requirement already satisfied: bitsandbytes in /usr/local/lib/python3.10/dist-packages (from -r /content/drive/MyDrive/2024-01-26/requirements.fine_tuning.txt (line 2)) (0.42.0)\n",
                        "Requirement already satisfied: datasets in /usr/local/lib/python3.10/dist-packages (from -r /content/drive/MyDrive/2024-01-26/requirements.fine_tuning.txt (line 3)) (2.16.1)\n",
                        "Requirement already satisfied: peft in /usr/local/lib/python3.10/dist-packages (from -r /content/drive/MyDrive/2024-01-26/requirements.fine_tuning.txt (line 4)) (0.7.1)\n",
                        "Requirement already satisfied: safetensors in /usr/local/lib/python3.10/dist-packages (from -r /content/drive/MyDrive/2024-01-26/requirements.fine_tuning.txt (line 5)) (0.4.2)\n",
                        "Requirement already satisfied: torch in /usr/local/lib/python3.10/dist-packages (from -r /content/drive/MyDrive/2024-01-26/requirements.fine_tuning.txt (line 6)) (2.1.2+cu118)\n",
                        "Requirement already satisfied: transformers in /usr/local/lib/python3.10/dist-packages (from -r /content/drive/MyDrive/2024-01-26/requirements.fine_tuning.txt (line 7)) (4.37.1)\n",
                        "Requirement already satisfied: trl in /usr/local/lib/python3.10/dist-packages (from -r /content/drive/MyDrive/2024-01-26/requirements.fine_tuning.txt (line 8)) (0.7.10)\n",
                        "Requirement already satisfied: numpy>=1.17 in /usr/local/lib/python3.10/dist-packages (from accelerate->-r /content/drive/MyDrive/2024-01-26/requirements.fine_tuning.txt (line 1)) (1.23.5)\n",
                        "Requirement already satisfied: packaging>=20.0 in /usr/local/lib/python3.10/dist-packages (from accelerate->-r /content/drive/MyDrive/2024-01-26/requirements.fine_tuning.txt (line 1)) (23.2)\n",
                        "Requirement already satisfied: psutil in /usr/local/lib/python3.10/dist-packages (from accelerate->-r /content/drive/MyDrive/2024-01-26/requirements.fine_tuning.txt (line 1)) (5.9.5)\n",
                        "Requirement already satisfied: pyyaml in /usr/local/lib/python3.10/dist-packages (from accelerate->-r /content/drive/MyDrive/2024-01-26/requirements.fine_tuning.txt (line 1)) (6.0.1)\n",
                        "Requirement already satisfied: huggingface-hub in /usr/local/lib/python3.10/dist-packages (from accelerate->-r /content/drive/MyDrive/2024-01-26/requirements.fine_tuning.txt (line 1)) (0.20.3)\n",
                        "Requirement already satisfied: scipy in /usr/local/lib/python3.10/dist-packages (from bitsandbytes->-r /content/drive/MyDrive/2024-01-26/requirements.fine_tuning.txt (line 2)) (1.11.4)\n",
                        "Requirement already satisfied: filelock in /usr/local/lib/python3.10/dist-packages (from datasets->-r /content/drive/MyDrive/2024-01-26/requirements.fine_tuning.txt (line 3)) (3.13.1)\n",
                        "Requirement already satisfied: pyarrow>=8.0.0 in /usr/local/lib/python3.10/dist-packages (from datasets->-r /content/drive/MyDrive/2024-01-26/requirements.fine_tuning.txt (line 3)) (10.0.1)\n",
                        "Requirement already satisfied: pyarrow-hotfix in /usr/local/lib/python3.10/dist-packages (from datasets->-r /content/drive/MyDrive/2024-01-26/requirements.fine_tuning.txt (line 3)) (0.6)\n",
                        "Requirement already satisfied: dill<0.3.8,>=0.3.0 in /usr/local/lib/python3.10/dist-packages (from datasets->-r /content/drive/MyDrive/2024-01-26/requirements.fine_tuning.txt (line 3)) (0.3.7)\n",
                        "Requirement already satisfied: pandas in /usr/local/lib/python3.10/dist-packages (from datasets->-r /content/drive/MyDrive/2024-01-26/requirements.fine_tuning.txt (line 3)) (1.5.3)\n",
                        "Requirement already satisfied: requests>=2.19.0 in /usr/local/lib/python3.10/dist-packages (from datasets->-r /content/drive/MyDrive/2024-01-26/requirements.fine_tuning.txt (line 3)) (2.31.0)\n",
                        "Requirement already satisfied: tqdm>=4.62.1 in /usr/local/lib/python3.10/dist-packages (from datasets->-r /content/drive/MyDrive/2024-01-26/requirements.fine_tuning.txt (line 3)) (4.66.1)\n",
                        "Requirement already satisfied: xxhash in /usr/local/lib/python3.10/dist-packages (from datasets->-r /content/drive/MyDrive/2024-01-26/requirements.fine_tuning.txt (line 3)) (3.4.1)\n",
                        "Requirement already satisfied: multiprocess in /usr/local/lib/python3.10/dist-packages (from datasets->-r /content/drive/MyDrive/2024-01-26/requirements.fine_tuning.txt (line 3)) (0.70.15)\n",
                        "Requirement already satisfied: fsspec[http]<=2023.10.0,>=2023.1.0 in /usr/local/lib/python3.10/dist-packages (from datasets->-r /content/drive/MyDrive/2024-01-26/requirements.fine_tuning.txt (line 3)) (2023.6.0)\n",
                        "Requirement already satisfied: aiohttp in /usr/local/lib/python3.10/dist-packages (from datasets->-r /content/drive/MyDrive/2024-01-26/requirements.fine_tuning.txt (line 3)) (3.9.1)\n",
                        "Requirement already satisfied: typing-extensions in /usr/local/lib/python3.10/dist-packages (from torch->-r /content/drive/MyDrive/2024-01-26/requirements.fine_tuning.txt (line 6)) (4.5.0)\n",
                        "Requirement already satisfied: sympy in /usr/local/lib/python3.10/dist-packages (from torch->-r /content/drive/MyDrive/2024-01-26/requirements.fine_tuning.txt (line 6)) (1.12)\n",
                        "Requirement already satisfied: networkx in /usr/local/lib/python3.10/dist-packages (from torch->-r /content/drive/MyDrive/2024-01-26/requirements.fine_tuning.txt (line 6)) (3.2.1)\n",
                        "Requirement already satisfied: jinja2 in /usr/local/lib/python3.10/dist-packages (from torch->-r /content/drive/MyDrive/2024-01-26/requirements.fine_tuning.txt (line 6)) (3.1.3)\n",
                        "Requirement already satisfied: triton==2.1.0 in /usr/local/lib/python3.10/dist-packages (from torch->-r /content/drive/MyDrive/2024-01-26/requirements.fine_tuning.txt (line 6)) (2.1.0)\n",
                        "Requirement already satisfied: regex!=2019.12.17 in /usr/local/lib/python3.10/dist-packages (from transformers->-r /content/drive/MyDrive/2024-01-26/requirements.fine_tuning.txt (line 7)) (2023.6.3)\n",
                        "Requirement already satisfied: tokenizers<0.19,>=0.14 in /usr/local/lib/python3.10/dist-packages (from transformers->-r /content/drive/MyDrive/2024-01-26/requirements.fine_tuning.txt (line 7)) (0.15.1)\n",
                        "Requirement already satisfied: tyro>=0.5.11 in /usr/local/lib/python3.10/dist-packages (from trl->-r /content/drive/MyDrive/2024-01-26/requirements.fine_tuning.txt (line 8)) (0.7.0)\n",
                        "Requirement already satisfied: attrs>=17.3.0 in /usr/local/lib/python3.10/dist-packages (from aiohttp->datasets->-r /content/drive/MyDrive/2024-01-26/requirements.fine_tuning.txt (line 3)) (23.2.0)\n",
                        "Requirement already satisfied: multidict<7.0,>=4.5 in /usr/local/lib/python3.10/dist-packages (from aiohttp->datasets->-r /content/drive/MyDrive/2024-01-26/requirements.fine_tuning.txt (line 3)) (6.0.4)\n",
                        "Requirement already satisfied: yarl<2.0,>=1.0 in /usr/local/lib/python3.10/dist-packages (from aiohttp->datasets->-r /content/drive/MyDrive/2024-01-26/requirements.fine_tuning.txt (line 3)) (1.9.4)\n",
                        "Requirement already satisfied: frozenlist>=1.1.1 in /usr/local/lib/python3.10/dist-packages (from aiohttp->datasets->-r /content/drive/MyDrive/2024-01-26/requirements.fine_tuning.txt (line 3)) (1.4.1)\n",
                        "Requirement already satisfied: aiosignal>=1.1.2 in /usr/local/lib/python3.10/dist-packages (from aiohttp->datasets->-r /content/drive/MyDrive/2024-01-26/requirements.fine_tuning.txt (line 3)) (1.3.1)\n",
                        "Requirement already satisfied: async-timeout<5.0,>=4.0 in /usr/local/lib/python3.10/dist-packages (from aiohttp->datasets->-r /content/drive/MyDrive/2024-01-26/requirements.fine_tuning.txt (line 3)) (4.0.3)\n",
                        "Requirement already satisfied: charset-normalizer<4,>=2 in /usr/local/lib/python3.10/dist-packages (from requests>=2.19.0->datasets->-r /content/drive/MyDrive/2024-01-26/requirements.fine_tuning.txt (line 3)) (3.3.2)\n",
                        "Requirement already satisfied: idna<4,>=2.5 in /usr/local/lib/python3.10/dist-packages (from requests>=2.19.0->datasets->-r /content/drive/MyDrive/2024-01-26/requirements.fine_tuning.txt (line 3)) (3.6)\n",
                        "Requirement already satisfied: urllib3<3,>=1.21.1 in /usr/local/lib/python3.10/dist-packages (from requests>=2.19.0->datasets->-r /content/drive/MyDrive/2024-01-26/requirements.fine_tuning.txt (line 3)) (2.0.7)\n",
                        "Requirement already satisfied: certifi>=2017.4.17 in /usr/local/lib/python3.10/dist-packages (from requests>=2.19.0->datasets->-r /content/drive/MyDrive/2024-01-26/requirements.fine_tuning.txt (line 3)) (2023.11.17)\n",
                        "Requirement already satisfied: docstring-parser>=0.14.1 in /usr/local/lib/python3.10/dist-packages (from tyro>=0.5.11->trl->-r /content/drive/MyDrive/2024-01-26/requirements.fine_tuning.txt (line 8)) (0.15)\n",
                        "Requirement already satisfied: rich>=11.1.0 in /usr/local/lib/python3.10/dist-packages (from tyro>=0.5.11->trl->-r /content/drive/MyDrive/2024-01-26/requirements.fine_tuning.txt (line 8)) (13.7.0)\n",
                        "Requirement already satisfied: shtab>=1.5.6 in /usr/local/lib/python3.10/dist-packages (from tyro>=0.5.11->trl->-r /content/drive/MyDrive/2024-01-26/requirements.fine_tuning.txt (line 8)) (1.6.5)\n",
                        "Requirement already satisfied: MarkupSafe>=2.0 in /usr/local/lib/python3.10/dist-packages (from jinja2->torch->-r /content/drive/MyDrive/2024-01-26/requirements.fine_tuning.txt (line 6)) (2.1.4)\n",
                        "Requirement already satisfied: python-dateutil>=2.8.1 in /usr/local/lib/python3.10/dist-packages (from pandas->datasets->-r /content/drive/MyDrive/2024-01-26/requirements.fine_tuning.txt (line 3)) (2.8.2)\n",
                        "Requirement already satisfied: pytz>=2020.1 in /usr/local/lib/python3.10/dist-packages (from pandas->datasets->-r /content/drive/MyDrive/2024-01-26/requirements.fine_tuning.txt (line 3)) (2023.3.post1)\n",
                        "Requirement already satisfied: mpmath>=0.19 in /usr/local/lib/python3.10/dist-packages (from sympy->torch->-r /content/drive/MyDrive/2024-01-26/requirements.fine_tuning.txt (line 6)) (1.3.0)\n",
                        "Requirement already satisfied: six>=1.5 in /usr/local/lib/python3.10/dist-packages (from python-dateutil>=2.8.1->pandas->datasets->-r /content/drive/MyDrive/2024-01-26/requirements.fine_tuning.txt (line 3)) (1.16.0)\n",
                        "Requirement already satisfied: markdown-it-py>=2.2.0 in /usr/local/lib/python3.10/dist-packages (from rich>=11.1.0->tyro>=0.5.11->trl->-r /content/drive/MyDrive/2024-01-26/requirements.fine_tuning.txt (line 8)) (3.0.0)\n",
                        "Requirement already satisfied: pygments<3.0.0,>=2.13.0 in /usr/local/lib/python3.10/dist-packages (from rich>=11.1.0->tyro>=0.5.11->trl->-r /content/drive/MyDrive/2024-01-26/requirements.fine_tuning.txt (line 8)) (2.16.1)\n",
                        "Requirement already satisfied: mdurl~=0.1 in /usr/local/lib/python3.10/dist-packages (from markdown-it-py>=2.2.0->rich>=11.1.0->tyro>=0.5.11->trl->-r /content/drive/MyDrive/2024-01-26/requirements.fine_tuning.txt (line 8)) (0.1.2)\n"
                    ]
                }
            ],
            "source": [
                "!python3 -m pip install \\\n",
                "    --upgrade \\\n",
                "    --requirement \"/content/drive/MyDrive/2024-01-26/requirements.fine_tuning.txt\" \\\n",
                "    --constraint \"/content/drive/MyDrive/2024-01-26/constraints.fine_tuning.txt\" \\\n",
                "    --extra-index-url \"https://download.pytorch.org/whl/cu118\""
            ]
        },
        {
            "cell_type": "markdown",
            "metadata": {
                "id": "D3NUFy0MUIeF"
            },
            "source": [
                "### CUDA Configuration"
            ]
        },
        {
            "cell_type": "code",
            "execution_count": 4,
            "metadata": {
                "id": "o1VNi6NyUM1s"
            },
            "outputs": [],
            "source": [
                "import os\n",
                "\n",
                "os.environ[\"LD_LIBRARY_PATH\"] += \":/usr/local/cuda-11/lib64\"\n",
                "os.environ[\"LD_LIBRARY_PATH\"] += \":/usr/local/cuda-11.8/lib64\"\n",
                "os.environ[\"LD_LIBRARY_PATH\"] += \":/usr/lib64-nvidia\""
            ]
        },
        {
            "cell_type": "markdown",
            "metadata": {
                "id": "eWJcqtckSER0"
            },
            "source": [
                "# Import Python Packages"
            ]
        },
        {
            "cell_type": "code",
            "execution_count": 5,
            "metadata": {
                "id": "d5gNd9iESH83"
            },
            "outputs": [],
            "source": [
                "import gc\n",
                "import json\n",
                "import pathlib\n",
                "import shutil\n",
                "import time\n",
                "\n",
                "import datasets\n",
                "import peft\n",
                "import torch\n",
                "import transformers\n",
                "import trl"
            ]
        },
        {
            "cell_type": "markdown",
            "metadata": {
                "id": "GYUOSMgUPjYG"
            },
            "source": [
                "# Create Dataset Splits"
            ]
        },
        {
            "cell_type": "code",
            "execution_count": 6,
            "metadata": {
                "id": "P5mpyjzHPfnN"
            },
            "outputs": [],
            "source": [
                "raw_dataset_path = pathlib.Path(\"/content/drive/MyDrive/2024-01-26/json_documents.json\")\n",
                "\n",
                "hugging_face_dataset_path = pathlib.Path(\"hugging_face_dataset_directory\")\n",
                "hugging_face_dataset_archive_name = \"hugging_face_dataset_archive\""
            ]
        },
        {
            "cell_type": "code",
            "execution_count": 7,
            "metadata": {
                "id": "K0GCgpd8S7qu"
            },
            "outputs": [],
            "source": [
                "with raw_dataset_path.open(encoding=\"utf-8\") as file_object:\n",
                "    raw_dataset = json.load(file_object)"
            ]
        },
        {
            "cell_type": "code",
            "execution_count": 8,
            "metadata": {
                "id": "bLNQcNLtS8sk"
            },
            "outputs": [],
            "source": [
                "dataset_splits = {split_type: [] for split_type in [\"train\", \"validation\", \"test\"]}\n",
                "\n",
                "for document in raw_dataset[\"tuning_documents\"]:\n",
                "    dataset_splits[document[\"split\"]].append(document)"
            ]
        },
        {
            "cell_type": "code",
            "execution_count": 9,
            "metadata": {
                "id": "cpZSFLHjS8pP"
            },
            "outputs": [],
            "source": [
                "hugging_face_dataset = datasets.DatasetDict(\n",
                "    {\n",
                "        split_type: datasets.Dataset.from_list(split_data)\n",
                "        for split_type, split_data in dataset_splits.items()\n",
                "    }\n",
                ")"
            ]
        },
        {
            "cell_type": "markdown",
            "metadata": {
                "id": "_sWkVWEnTKtt"
            },
            "source": [
                "### Backup Dataset"
            ]
        },
        {
            "cell_type": "code",
            "execution_count": 10,
            "metadata": {
                "colab": {
                    "base_uri": "https://localhost:8080/",
                    "height": 113,
                    "referenced_widgets": [
                        "7174483d1bd74e8298fc04f88e40d293",
                        "3b79b2db78174ee1961923858c114628",
                        "67f272455f7f48d3b322658208acca16",
                        "766a8d7b17db4e0eba9b92570f400ee3",
                        "2231718fa873476aa6a71a668487bfc7",
                        "c1d3eeba50084fad9c64f50b6906e66d",
                        "a300ad8bfbdc49ab83a648387883d563",
                        "7e34c928398d4db58f7131a8bde08914",
                        "365d1749578b48349eafe19543f04883",
                        "815bd1ff20354cf2b1f7a1311ca387f7",
                        "63b30583b37f4f5fbcbe8f793050c6ed",
                        "d2095c66a49b4d8e93541ee06a0b6078",
                        "34c2c4053b514fc9b29034b0a5f80f5c",
                        "2a6e9037d06941f8b992b566e8508dd7",
                        "6fb5f244f4c843f3b31776ca25fd3165",
                        "0143dca86f744d598ad1f5fd6dc46956",
                        "1524bd2fea5943508571b4a7cf5dde37",
                        "19048598a0d245c89afa9740ab5d99f9",
                        "18fd4eee6d4f4111a516f9bfa1ec73d7",
                        "50753e35c7e84bd5852607ae330481b0",
                        "415646d38a1b47b8a423077dd67ab6cc",
                        "0b1929334529485b9631b0833ea8b5c6",
                        "f041b4fa15ab48e88f0b31f315a4ccfe",
                        "3b68f3da14fa4c78ad65d9b2535da843",
                        "3197343775bb4d09a7036f8ae3a2b835",
                        "16ef16d460244b93a2bf757f12abc31e",
                        "d64be536281d4972baea910efdb3d5da",
                        "ea352fa83f144c2f9471a519ef32552f",
                        "4050c8e21b78485b80aa3a71bc8c6936",
                        "eb87ab773f374a5c845d41b16a38c96c",
                        "db5ddfe4a1724aedacf2608add2d17b1",
                        "bdb03df1255e456d833effa7b70d2a78",
                        "9c5b6b37eb394859ad3492d53895d7c5"
                    ]
                },
                "id": "ieADCrjMTQ4L",
                "outputId": "5136be8a-b078-4aba-8aad-2744ae91832a"
            },
            "outputs": [
                {
                    "data": {
                        "application/vnd.jupyter.widget-view+json": {
                            "model_id": "7174483d1bd74e8298fc04f88e40d293",
                            "version_major": 2,
                            "version_minor": 0
                        },
                        "text/plain": [
                            "Saving the dataset (0/1 shards):   0%|          | 0/1703 [00:00<?, ? examples/s]"
                        ]
                    },
                    "metadata": {},
                    "output_type": "display_data"
                },
                {
                    "data": {
                        "application/vnd.jupyter.widget-view+json": {
                            "model_id": "d2095c66a49b4d8e93541ee06a0b6078",
                            "version_major": 2,
                            "version_minor": 0
                        },
                        "text/plain": [
                            "Saving the dataset (0/1 shards):   0%|          | 0/577 [00:00<?, ? examples/s]"
                        ]
                    },
                    "metadata": {},
                    "output_type": "display_data"
                },
                {
                    "data": {
                        "application/vnd.jupyter.widget-view+json": {
                            "model_id": "f041b4fa15ab48e88f0b31f315a4ccfe",
                            "version_major": 2,
                            "version_minor": 0
                        },
                        "text/plain": [
                            "Saving the dataset (0/1 shards):   0%|          | 0/574 [00:00<?, ? examples/s]"
                        ]
                    },
                    "metadata": {},
                    "output_type": "display_data"
                }
            ],
            "source": [
                "hugging_face_dataset.save_to_disk(hugging_face_dataset_path)"
            ]
        },
        {
            "cell_type": "code",
            "execution_count": 11,
            "metadata": {
                "id": "BJpxl7_wVG0e"
            },
            "outputs": [],
            "source": [
                "_ = shutil.make_archive(\n",
                "    hugging_face_dataset_archive_name, \"zip\", base_dir=hugging_face_dataset_path\n",
                ")"
            ]
        },
        {
            "cell_type": "markdown",
            "metadata": {
                "id": "_0lPBqBmTRvR"
            },
            "source": [
                "### Cleanup"
            ]
        },
        {
            "cell_type": "code",
            "execution_count": 12,
            "metadata": {
                "id": "DUHw6MTPTam6"
            },
            "outputs": [],
            "source": [
                "del hugging_face_dataset\n",
                "del dataset_splits\n",
                "del raw_dataset"
            ]
        },
        {
            "cell_type": "code",
            "execution_count": 13,
            "metadata": {
                "id": "ntbpyy-ZTtmJ"
            },
            "outputs": [],
            "source": [
                "_ = gc.collect()\n",
                "\n",
                "time.sleep(30)\n",
                "\n",
                "_ = gc.collect()"
            ]
        },
        {
            "cell_type": "markdown",
            "metadata": {
                "id": "GDe-SV9uT6pj"
            },
            "source": [
                "# Tune Pretrained Model"
            ]
        },
        {
            "cell_type": "code",
            "execution_count": 14,
            "metadata": {
                "id": "ywL03eZtUAbw"
            },
            "outputs": [],
            "source": [
                "base_model_identifier = \"facebook/opt-350m\"\n",
                "\n",
                "tuning_checkpoint_directory_path = pathlib.Path(\"opt_tuning_checkpoints_directory\")\n",
                "tuning_checkpoint_archive_name = \"opt_tuning_checkpoints_archive\"\n",
                "\n",
                "tuned_adapter_directory_path = pathlib.Path(\"tuned_opt_adapter_directory\")\n",
                "tuned_adapter_archive_name = \"tuned_opt_adapter_archive\""
            ]
        },
        {
            "cell_type": "code",
            "execution_count": 15,
            "metadata": {
                "id": "TQ4kBCl-WA7v"
            },
            "outputs": [],
            "source": [
                "hugging_face_dataset = datasets.load_from_disk(hugging_face_dataset_path)\n",
                "\n",
                "training_subset = hugging_face_dataset[\"train\"]\n",
                "validation_subset = hugging_face_dataset[\"validation\"]"
            ]
        },
        {
            "cell_type": "code",
            "execution_count": 16,
            "metadata": {
                "id": "UJO9iLh_WA5q"
            },
            "outputs": [],
            "source": [
                "quantisation_configuration = transformers.BitsAndBytesConfig(\n",
                "    load_in_4bit=True,\n",
                "    bnb_4bit_compute_dtype=torch.float16,\n",
                "    bnb_4bit_quant_type=\"nf4\",\n",
                "    bnb_4bit_use_double_quant=True,\n",
                ")"
            ]
        },
        {
            "cell_type": "code",
            "execution_count": 17,
            "metadata": {
                "colab": {
                    "base_uri": "https://localhost:8080/"
                },
                "id": "T_ABsTT_WA3x",
                "outputId": "efd0090a-802c-4f7c-ab48-450252b51bbd"
            },
            "outputs": [
                {
                    "name": "stderr",
                    "output_type": "stream",
                    "text": [
                        "/usr/local/lib/python3.10/dist-packages/huggingface_hub/utils/_token.py:88: UserWarning: \n",
                        "The secret `HF_TOKEN` does not exist in your Colab secrets.\n",
                        "To authenticate with the Hugging Face Hub, create a token in your settings tab (https://huggingface.co/settings/tokens), set it as secret in your Google Colab and restart your session.\n",
                        "You will be able to reuse this secret in all of your notebooks.\n",
                        "Please note that authentication is recommended but still optional to access public models or datasets.\n",
                        "  warnings.warn(\n",
                        "/usr/local/lib/python3.10/dist-packages/torch/_utils.py:831: UserWarning: TypedStorage is deprecated. It will be removed in the future and UntypedStorage will be the only storage class. This should only matter to you if you are using storages directly.  To access UntypedStorage directly, use tensor.untyped_storage() instead of tensor.storage()\n",
                        "  return self.fget.__get__(instance, owner)()\n"
                    ]
                }
            ],
            "source": [
                "model = transformers.AutoModelForCausalLM.from_pretrained(\n",
                "    base_model_identifier,\n",
                "    quantization_config=quantisation_configuration,\n",
                "    device_map=\"auto\",\n",
                ")\n",
                "\n",
                "model.config.use_cache = False\n",
                "model.config.pretraining_tp = 1"
            ]
        },
        {
            "cell_type": "code",
            "execution_count": 18,
            "metadata": {
                "id": "nFnutgpcWA1n"
            },
            "outputs": [],
            "source": [
                "tokeniser = transformers.AutoTokenizer.from_pretrained(base_model_identifier)\n",
                "\n",
                "tokeniser.pad_token = tokeniser.eos_token\n",
                "tokeniser.padding_side = \"right\""
            ]
        },
        {
            "cell_type": "code",
            "execution_count": 19,
            "metadata": {
                "id": "d-HRS3rqWAzn"
            },
            "outputs": [],
            "source": [
                "peft_configuration = peft.LoraConfig(\n",
                "    r=8,\n",
                "    lora_alpha=16,\n",
                "    lora_dropout=0.1,\n",
                "    bias=\"lora_only\",\n",
                "    task_type=peft.TaskType.CAUSAL_LM,\n",
                ")\n",
                "\n",
                "peft_model = peft.get_peft_model(model, peft_configuration)"
            ]
        },
        {
            "cell_type": "code",
            "execution_count": 20,
            "metadata": {
                "id": "hAHFt4qVWAx3"
            },
            "outputs": [],
            "source": [
                "training_configuration = transformers.TrainingArguments(\n",
                "    output_dir=str(tuning_checkpoint_directory_path),\n",
                "    overwrite_output_dir=True,\n",
                "    evaluation_strategy=\"epoch\",\n",
                "    gradient_accumulation_steps=1,\n",
                "    learning_rate=1e-3,\n",
                "    weight_decay=0.001,\n",
                "    max_grad_norm=0.3,\n",
                "    num_train_epochs=20,\n",
                "    max_steps=-1,\n",
                "    lr_scheduler_type=transformers.SchedulerType.REDUCE_ON_PLATEAU,\n",
                "    warmup_ratio=0.03,\n",
                "    save_strategy=\"epoch\",\n",
                "    save_safetensors=True,\n",
                "    use_cpu=False,\n",
                "    seed=0,\n",
                "    data_seed=0,\n",
                "    bf16=False,\n",
                "    fp16=True,\n",
                "    load_best_model_at_end=True,\n",
                "    optim=\"paged_adamw_32bit\",\n",
                "    group_by_length=True,\n",
                "    report_to=[\"none\"],\n",
                "    auto_find_batch_size=True,\n",
                ")"
            ]
        },
        {
            "cell_type": "code",
            "execution_count": 21,
            "metadata": {
                "colab": {
                    "base_uri": "https://localhost:8080/",
                    "height": 81,
                    "referenced_widgets": [
                        "a4264e2ac8064def8538407710cfb505",
                        "0507773f809f437f95c1bb2a14bee8f3",
                        "b4795f3f287343f79cdb40a87aa55acf",
                        "149868f4a7714c539626517933e92ca4",
                        "7d4a13858c7847a194fa5efa1bfd7cc9",
                        "82d1db6d99054c9d881111a360b3ead8",
                        "2850e8657f4d408fbb9282e48d9c846b",
                        "9bc4c94622ff4dda86e08d0a23f77f05",
                        "762dcecf80c54ee28e41565d67a38cb1",
                        "5d0d76eea99044d682737a9d63c05201",
                        "5a124d0d67bf4473ad05d51225fa0505",
                        "aa549f010edc4d79afecf3843f022658",
                        "7bc1c0b0005b4520bafd2a016148887c",
                        "699d752f945e4c8c8891dca1cc4576e1",
                        "c7b95116a09349df940a13e21a8e8389",
                        "68b5bd9814ab428e9f7de29e544050c3",
                        "e3a15f6b50df43b6987fd8810ed9fcd1",
                        "49002a68b30f4052bc1bb5de80b52050",
                        "5fc02e6affae441eb441004974bae8a4",
                        "f7c5dfb42fd34752aa779d002cefba56",
                        "9abe3562e99941a78f7651655ba3e0a0",
                        "908d9ea68b27427ca947da510deb246a"
                    ]
                },
                "id": "cuQHgYphWAv4",
                "outputId": "fc654083-de20-4233-b1ba-ea51502c1867"
            },
            "outputs": [
                {
                    "data": {
                        "application/vnd.jupyter.widget-view+json": {
                            "model_id": "a4264e2ac8064def8538407710cfb505",
                            "version_major": 2,
                            "version_minor": 0
                        },
                        "text/plain": [
                            "Map:   0%|          | 0/1703 [00:00<?, ? examples/s]"
                        ]
                    },
                    "metadata": {},
                    "output_type": "display_data"
                },
                {
                    "data": {
                        "application/vnd.jupyter.widget-view+json": {
                            "model_id": "aa549f010edc4d79afecf3843f022658",
                            "version_major": 2,
                            "version_minor": 0
                        },
                        "text/plain": [
                            "Map:   0%|          | 0/577 [00:00<?, ? examples/s]"
                        ]
                    },
                    "metadata": {},
                    "output_type": "display_data"
                }
            ],
            "source": [
                "supervised_trainer = trl.SFTTrainer(\n",
                "    model=peft_model,\n",
                "    args=training_configuration,\n",
                "    train_dataset=training_subset,\n",
                "    eval_dataset=validation_subset,\n",
                "    tokenizer=tokeniser,\n",
                "    dataset_text_field=\"instruction_without_context\",\n",
                "    packing=False,\n",
                "    max_seq_length=512,\n",
                ")"
            ]
        },
        {
            "cell_type": "code",
            "execution_count": 22,
            "metadata": {
                "colab": {
                    "base_uri": "https://localhost:8080/",
                    "height": 755
                },
                "id": "ccGL-T_NWAt4",
                "outputId": "55a877a0-f359-4e6b-afe2-66de9dfc7715"
            },
            "outputs": [
                {
                    "data": {
                        "text/html": [
                            "\n",
                            "    <div>\n",
                            "      \n",
                            "      <progress value='4260' max='4260' style='width:300px; height:20px; vertical-align: middle;'></progress>\n",
                            "      [4260/4260 20:27, Epoch 20/20]\n",
                            "    </div>\n",
                            "    <table border=\"1\" class=\"dataframe\">\n",
                            "  <thead>\n",
                            " <tr style=\"text-align: left;\">\n",
                            "      <th>Epoch</th>\n",
                            "      <th>Training Loss</th>\n",
                            "      <th>Validation Loss</th>\n",
                            "    </tr>\n",
                            "  </thead>\n",
                            "  <tbody>\n",
                            "    <tr>\n",
                            "      <td>1</td>\n",
                            "      <td>No log</td>\n",
                            "      <td>0.885279</td>\n",
                            "    </tr>\n",
                            "    <tr>\n",
                            "      <td>2</td>\n",
                            "      <td>No log</td>\n",
                            "      <td>0.658896</td>\n",
                            "    </tr>\n",
                            "    <tr>\n",
                            "      <td>3</td>\n",
                            "      <td>0.980700</td>\n",
                            "      <td>0.507731</td>\n",
                            "    </tr>\n",
                            "    <tr>\n",
                            "      <td>4</td>\n",
                            "      <td>0.980700</td>\n",
                            "      <td>0.447947</td>\n",
                            "    </tr>\n",
                            "    <tr>\n",
                            "      <td>5</td>\n",
                            "      <td>0.504000</td>\n",
                            "      <td>0.406625</td>\n",
                            "    </tr>\n",
                            "    <tr>\n",
                            "      <td>6</td>\n",
                            "      <td>0.504000</td>\n",
                            "      <td>0.376670</td>\n",
                            "    </tr>\n",
                            "    <tr>\n",
                            "      <td>7</td>\n",
                            "      <td>0.504000</td>\n",
                            "      <td>0.368012</td>\n",
                            "    </tr>\n",
                            "    <tr>\n",
                            "      <td>8</td>\n",
                            "      <td>0.395100</td>\n",
                            "      <td>0.335787</td>\n",
                            "    </tr>\n",
                            "    <tr>\n",
                            "      <td>9</td>\n",
                            "      <td>0.395100</td>\n",
                            "      <td>0.315037</td>\n",
                            "    </tr>\n",
                            "    <tr>\n",
                            "      <td>10</td>\n",
                            "      <td>0.335000</td>\n",
                            "      <td>0.299525</td>\n",
                            "    </tr>\n",
                            "    <tr>\n",
                            "      <td>11</td>\n",
                            "      <td>0.335000</td>\n",
                            "      <td>0.300960</td>\n",
                            "    </tr>\n",
                            "    <tr>\n",
                            "      <td>12</td>\n",
                            "      <td>0.314700</td>\n",
                            "      <td>0.288169</td>\n",
                            "    </tr>\n",
                            "    <tr>\n",
                            "      <td>13</td>\n",
                            "      <td>0.314700</td>\n",
                            "      <td>0.282867</td>\n",
                            "    </tr>\n",
                            "    <tr>\n",
                            "      <td>14</td>\n",
                            "      <td>0.314700</td>\n",
                            "      <td>0.277782</td>\n",
                            "    </tr>\n",
                            "    <tr>\n",
                            "      <td>15</td>\n",
                            "      <td>0.289400</td>\n",
                            "      <td>0.284913</td>\n",
                            "    </tr>\n",
                            "    <tr>\n",
                            "      <td>16</td>\n",
                            "      <td>0.289400</td>\n",
                            "      <td>0.269719</td>\n",
                            "    </tr>\n",
                            "    <tr>\n",
                            "      <td>17</td>\n",
                            "      <td>0.276500</td>\n",
                            "      <td>0.265323</td>\n",
                            "    </tr>\n",
                            "    <tr>\n",
                            "      <td>18</td>\n",
                            "      <td>0.276500</td>\n",
                            "      <td>0.266115</td>\n",
                            "    </tr>\n",
                            "    <tr>\n",
                            "      <td>19</td>\n",
                            "      <td>0.273700</td>\n",
                            "      <td>0.271913</td>\n",
                            "    </tr>\n",
                            "    <tr>\n",
                            "      <td>20</td>\n",
                            "      <td>0.273700</td>\n",
                            "      <td>0.256399</td>\n",
                            "    </tr>\n",
                            "  </tbody>\n",
                            "</table><p>"
                        ],
                        "text/plain": [
                            "<IPython.core.display.HTML object>"
                        ]
                    },
                    "metadata": {},
                    "output_type": "display_data"
                },
                {
                    "data": {
                        "text/plain": [
                            "TrainOutput(global_step=4260, training_loss=0.41160730890265096, metrics={'train_runtime': 1228.8467, 'train_samples_per_second': 27.717, 'train_steps_per_second': 3.467, 'total_flos': 4570919643660288.0, 'train_loss': 0.41160730890265096, 'epoch': 20.0})"
                        ]
                    },
                    "execution_count": 22,
                    "metadata": {},
                    "output_type": "execute_result"
                }
            ],
            "source": [
                "supervised_trainer.train()"
            ]
        },
        {
            "cell_type": "markdown",
            "metadata": {
                "id": "DvE-eIJ_dDAB"
            },
            "source": [
                "### Backup Model"
            ]
        },
        {
            "cell_type": "code",
            "execution_count": 23,
            "metadata": {
                "id": "yC_EGROaWArq"
            },
            "outputs": [],
            "source": [
                "supervised_trainer.model.save_pretrained(tuned_adapter_directory_path, safe_serialization=True)"
            ]
        },
        {
            "cell_type": "code",
            "execution_count": 24,
            "metadata": {
                "id": "74ebNf4MduzP"
            },
            "outputs": [],
            "source": [
                "_ = shutil.make_archive(tuned_adapter_archive_name, \"zip\", base_dir=tuned_adapter_directory_path)\n",
                "_ = shutil.make_archive(\n",
                "    tuning_checkpoint_archive_name, \"zip\", base_dir=tuning_checkpoint_directory_path\n",
                ")"
            ]
        },
        {
            "cell_type": "markdown",
            "metadata": {
                "id": "p5UlW612dmkF"
            },
            "source": [
                "### Cleanup"
            ]
        },
        {
            "cell_type": "code",
            "execution_count": 25,
            "metadata": {
                "id": "b_R5KVWoWApY"
            },
            "outputs": [],
            "source": [
                "del supervised_trainer\n",
                "del training_configuration\n",
                "del peft_model\n",
                "del tokeniser\n",
                "del model\n",
                "del validation_subset\n",
                "del training_subset\n",
                "del hugging_face_dataset"
            ]
        },
        {
            "cell_type": "code",
            "execution_count": 26,
            "metadata": {
                "id": "qtyjvaw4eWKs"
            },
            "outputs": [],
            "source": [
                "_ = gc.collect()\n",
                "torch.cuda.empty_cache()\n",
                "\n",
                "time.sleep(30)\n",
                "\n",
                "_ = gc.collect()\n",
                "torch.cuda.empty_cache()"
            ]
        },
        {
            "cell_type": "markdown",
            "metadata": {
                "id": "uVjx0i6bfF0J"
            },
            "source": [
                "# Use Untuned Model"
            ]
        },
        {
            "cell_type": "code",
            "execution_count": 27,
            "metadata": {
                "id": "c9UT-3BmfKeN"
            },
            "outputs": [],
            "source": [
                "prompt = \"Can you name the modules in the root package?\""
            ]
        },
        {
            "cell_type": "code",
            "execution_count": 28,
            "metadata": {
                "id": "KSQXGGpFgxHB"
            },
            "outputs": [],
            "source": [
                "untuned_model = transformers.AutoModelForCausalLM.from_pretrained(\n",
                "    base_model_identifier,\n",
                "    quantization_config=quantisation_configuration,\n",
                "    device_map=\"auto\",\n",
                ")"
            ]
        },
        {
            "cell_type": "code",
            "execution_count": 29,
            "metadata": {
                "id": "zvNClRHJgxEZ"
            },
            "outputs": [],
            "source": [
                "tokeniser = transformers.AutoTokenizer.from_pretrained(base_model_identifier)\n",
                "\n",
                "tokeniser.pad_token = tokeniser.eos_token\n",
                "tokeniser.padding_side = \"right\""
            ]
        },
        {
            "cell_type": "code",
            "execution_count": 30,
            "metadata": {
                "id": "nO6jJ30EgxCT"
            },
            "outputs": [],
            "source": [
                "untuned_pipeline = transformers.pipeline(\n",
                "    \"text-generation\",\n",
                "    model=untuned_model,\n",
                "    tokenizer=tokeniser,\n",
                "    device_map=\"auto\",\n",
                "    torch_dtype=torch.float16,\n",
                "    model_kwargs={\"low_cpu_mem_usage\": True},\n",
                "    max_new_tokens=256,\n",
                "    do_sample=True,\n",
                "    top_k=1,\n",
                ")"
            ]
        },
        {
            "cell_type": "code",
            "execution_count": 31,
            "metadata": {
                "colab": {
                    "base_uri": "https://localhost:8080/"
                },
                "id": "arT6HhgHgxAa",
                "outputId": "19f2e168-6018-4fdf-97bc-63dda6461172"
            },
            "outputs": [
                {
                    "name": "stdout",
                    "output_type": "stream",
                    "text": [
                        "Can you name the modules in the root package?\n",
                        "I can't, but I can tell you that the modules are in the root package.\n",
                        "I'm not sure what you mean by root package.\n",
                        "The package is the package that contains the modules.\n",
                        "Oh, I see. I'm not sure what you mean by the package.\n",
                        "The package is the package that contains the modules.\n",
                        "Oh, I see. I'm not sure what you mean by the package.\n",
                        "The package is the package that contains the modules.\n",
                        "Oh, I see. I'm not sure what you mean by the package.\n",
                        "The package is the package that contains the modules.\n",
                        "Oh, I see. I'm not sure what you mean by the package.\n",
                        "The package is the package that contains the modules.\n",
                        "Oh, I see. I'm not sure what you mean by the package.\n",
                        "The package is the package that contains the modules.\n",
                        "Oh, I see. I'm not sure what you mean by the package.\n",
                        "The package is the package that contains the modules.\n",
                        "Oh, I see. I'm not sure what you mean by the package.\n",
                        "The package is the package that contains the modules.\n",
                        "Oh, I see. I'm not sure what you mean by the package.\n",
                        "\n"
                    ]
                }
            ],
            "source": [
                "untuned_response = untuned_pipeline(prompt)\n",
                "\n",
                "print(untuned_response[0][\"generated_text\"])"
            ]
        },
        {
            "cell_type": "markdown",
            "metadata": {
                "id": "ObclbjzNhxDv"
            },
            "source": [
                "### Cleanup"
            ]
        },
        {
            "cell_type": "code",
            "execution_count": 32,
            "metadata": {
                "id": "95b4G_wchxDv"
            },
            "outputs": [],
            "source": [
                "del untuned_pipeline\n",
                "del tokeniser\n",
                "del untuned_model"
            ]
        },
        {
            "cell_type": "code",
            "execution_count": 33,
            "metadata": {
                "id": "hAfwZ-o0hxDv"
            },
            "outputs": [],
            "source": [
                "_ = gc.collect()\n",
                "torch.cuda.empty_cache()\n",
                "\n",
                "time.sleep(30)\n",
                "\n",
                "_ = gc.collect()\n",
                "torch.cuda.empty_cache()"
            ]
        },
        {
            "cell_type": "markdown",
            "metadata": {
                "id": "0iQmdaY0h43T"
            },
            "source": [
                "# Use Tuned Model"
            ]
        },
        {
            "cell_type": "code",
            "execution_count": 34,
            "metadata": {
                "id": "57zqGcPph43T"
            },
            "outputs": [],
            "source": [
                "untuned_model = transformers.AutoModelForCausalLM.from_pretrained(\n",
                "    base_model_identifier,\n",
                "    quantization_config=quantisation_configuration,\n",
                "    device_map=\"auto\",\n",
                ")"
            ]
        },
        {
            "cell_type": "code",
            "execution_count": 35,
            "metadata": {
                "id": "YOcd99gTh43U"
            },
            "outputs": [],
            "source": [
                "tokeniser = transformers.AutoTokenizer.from_pretrained(base_model_identifier)\n",
                "\n",
                "tokeniser.pad_token = tokeniser.eos_token\n",
                "tokeniser.padding_side = \"right\""
            ]
        },
        {
            "cell_type": "code",
            "execution_count": 36,
            "metadata": {
                "id": "VBvDH-2KiEYf"
            },
            "outputs": [],
            "source": [
                "tuned_model = peft.PeftModel.from_pretrained(untuned_model, tuned_adapter_directory_path)"
            ]
        },
        {
            "cell_type": "code",
            "execution_count": 37,
            "metadata": {
                "colab": {
                    "base_uri": "https://localhost:8080/"
                },
                "id": "Lx3DCzQfh43U",
                "outputId": "9d183ecd-019d-4628-9660-1ef75c50362c"
            },
            "outputs": [
                {
                    "name": "stderr",
                    "output_type": "stream",
                    "text": [
                        "The model 'PeftModelForCausalLM' is not supported for text-generation. Supported models are ['BartForCausalLM', 'BertLMHeadModel', 'BertGenerationDecoder', 'BigBirdForCausalLM', 'BigBirdPegasusForCausalLM', 'BioGptForCausalLM', 'BlenderbotForCausalLM', 'BlenderbotSmallForCausalLM', 'BloomForCausalLM', 'CamembertForCausalLM', 'LlamaForCausalLM', 'CodeGenForCausalLM', 'CpmAntForCausalLM', 'CTRLLMHeadModel', 'Data2VecTextForCausalLM', 'ElectraForCausalLM', 'ErnieForCausalLM', 'FalconForCausalLM', 'FuyuForCausalLM', 'GitForCausalLM', 'GPT2LMHeadModel', 'GPT2LMHeadModel', 'GPTBigCodeForCausalLM', 'GPTNeoForCausalLM', 'GPTNeoXForCausalLM', 'GPTNeoXJapaneseForCausalLM', 'GPTJForCausalLM', 'LlamaForCausalLM', 'MarianForCausalLM', 'MBartForCausalLM', 'MegaForCausalLM', 'MegatronBertForCausalLM', 'MistralForCausalLM', 'MixtralForCausalLM', 'MptForCausalLM', 'MusicgenForCausalLM', 'MvpForCausalLM', 'OpenLlamaForCausalLM', 'OpenAIGPTLMHeadModel', 'OPTForCausalLM', 'PegasusForCausalLM', 'PersimmonForCausalLM', 'PhiForCausalLM', 'PLBartForCausalLM', 'ProphetNetForCausalLM', 'QDQBertLMHeadModel', 'Qwen2ForCausalLM', 'ReformerModelWithLMHead', 'RemBertForCausalLM', 'RobertaForCausalLM', 'RobertaPreLayerNormForCausalLM', 'RoCBertForCausalLM', 'RoFormerForCausalLM', 'RwkvForCausalLM', 'Speech2Text2ForCausalLM', 'TransfoXLLMHeadModel', 'TrOCRForCausalLM', 'WhisperForCausalLM', 'XGLMForCausalLM', 'XLMWithLMHeadModel', 'XLMProphetNetForCausalLM', 'XLMRobertaForCausalLM', 'XLMRobertaXLForCausalLM', 'XLNetLMHeadModel', 'XmodForCausalLM'].\n"
                    ]
                }
            ],
            "source": [
                "tuned_pipeline = transformers.pipeline(\n",
                "    \"text-generation\",\n",
                "    model=tuned_model,\n",
                "    tokenizer=tokeniser,\n",
                "    device_map=\"auto\",\n",
                "    torch_dtype=torch.float16,\n",
                "    model_kwargs={\"low_cpu_mem_usage\": True},\n",
                "    max_new_tokens=256,\n",
                "    do_sample=True,\n",
                "    top_k=1,\n",
                ")"
            ]
        },
        {
            "cell_type": "code",
            "execution_count": 38,
            "metadata": {
                "colab": {
                    "base_uri": "https://localhost:8080/"
                },
                "id": "BfgWitBfh43U",
                "outputId": "28b17ca4-8443-4c75-82c5-80c75c4a4a8e"
            },
            "outputs": [
                {
                    "name": "stdout",
                    "output_type": "stream",
                    "text": [
                        "Can you name the modules in the root package?\n",
                        "\n",
                        "Yes, the root package is 'package_name_to_import_with'.\n",
                        "\n",
                        "What is the parent package?\n",
                        "\n",
                        "The root package is 'package_name_to_import_with'.\n",
                        "\n",
                        "What is the parent package?\n",
                        "\n",
                        "The root package is 'package_name_to_import_with'.\n",
                        "\n",
                        "What is the parent package?\n",
                        "\n",
                        "The root package is 'package_name_to_import_with'.\n",
                        "\n",
                        "What is the parent package?\n",
                        "\n",
                        "The root package is 'package_name_to_import_with'.\n",
                        "\n",
                        "What is the parent package?\n",
                        "\n",
                        "The parent package is 'package_name_to_import_with'.\n",
                        "\n",
                        "What is the parent package?\n",
                        "\n",
                        "The parent package is 'package_name_to_import_with'.\n",
                        "\n",
                        "What is the parent package?\n",
                        "\n",
                        "The root package is 'package'.\n",
                        "\n",
                        "What is the parent package?\n",
                        "\n",
                        "The root package is 'package'.\n",
                        "\n",
                        "What is the parent package?\n",
                        "\n",
                        "The root package.\n",
                        "\n",
                        "What is the parent package?\n",
                        "\n",
                        "The parent package.\n",
                        "\n",
                        "What is the parent package?\n",
                        "\n",
                        "The root package.\n",
                        "\n",
                        "What is the parent package?\n",
                        "\n",
                        "What\n"
                    ]
                }
            ],
            "source": [
                "tuned_response = tuned_pipeline(prompt)\n",
                "\n",
                "print(tuned_response[0][\"generated_text\"])"
            ]
        },
        {
            "cell_type": "markdown",
            "metadata": {
                "id": "AW7kln1_h43U"
            },
            "source": [
                "### Cleanup"
            ]
        },
        {
            "cell_type": "code",
            "execution_count": 39,
            "metadata": {
                "id": "gdeegKH5h43U"
            },
            "outputs": [],
            "source": [
                "del tuned_pipeline\n",
                "del tuned_model\n",
                "del tokeniser\n",
                "del untuned_model"
            ]
        },
        {
            "cell_type": "code",
            "execution_count": 40,
            "metadata": {
                "id": "RHQCZl_jh43U"
            },
            "outputs": [],
            "source": [
                "_ = gc.collect()\n",
                "torch.cuda.empty_cache()\n",
                "\n",
                "time.sleep(30)\n",
                "\n",
                "_ = gc.collect()\n",
                "torch.cuda.empty_cache()"
            ]
        }
    ],
    "metadata": {
        "accelerator": "GPU",
        "colab": {
            "gpuType": "T4",
            "provenance": []
        },
        "kernelspec": {
            "display_name": "Python 3",
            "name": "python3"
        },
        "language_info": {
            "name": "python"
        },
        "widgets": {
            "application/vnd.jupyter.widget-state+json": {
                "0143dca86f744d598ad1f5fd6dc46956": {
                    "model_module": "@jupyter-widgets/base",
                    "model_module_version": "1.2.0",
                    "model_name": "LayoutModel",
                    "state": {
                        "_model_module": "@jupyter-widgets/base",
                        "_model_module_version": "1.2.0",
                        "_model_name": "LayoutModel",
                        "_view_count": null,
                        "_view_module": "@jupyter-widgets/base",
                        "_view_module_version": "1.2.0",
                        "_view_name": "LayoutView",
                        "align_content": null,
                        "align_items": null,
                        "align_self": null,
                        "border": null,
                        "bottom": null,
                        "display": null,
                        "flex": null,
                        "flex_flow": null,
                        "grid_area": null,
                        "grid_auto_columns": null,
                        "grid_auto_flow": null,
                        "grid_auto_rows": null,
                        "grid_column": null,
                        "grid_gap": null,
                        "grid_row": null,
                        "grid_template_areas": null,
                        "grid_template_columns": null,
                        "grid_template_rows": null,
                        "height": null,
                        "justify_content": null,
                        "justify_items": null,
                        "left": null,
                        "margin": null,
                        "max_height": null,
                        "max_width": null,
                        "min_height": null,
                        "min_width": null,
                        "object_fit": null,
                        "object_position": null,
                        "order": null,
                        "overflow": null,
                        "overflow_x": null,
                        "overflow_y": null,
                        "padding": null,
                        "right": null,
                        "top": null,
                        "visibility": null,
                        "width": null
                    }
                },
                "0507773f809f437f95c1bb2a14bee8f3": {
                    "model_module": "@jupyter-widgets/controls",
                    "model_module_version": "1.5.0",
                    "model_name": "HTMLModel",
                    "state": {
                        "_dom_classes": [],
                        "_model_module": "@jupyter-widgets/controls",
                        "_model_module_version": "1.5.0",
                        "_model_name": "HTMLModel",
                        "_view_count": null,
                        "_view_module": "@jupyter-widgets/controls",
                        "_view_module_version": "1.5.0",
                        "_view_name": "HTMLView",
                        "description": "",
                        "description_tooltip": null,
                        "layout": "IPY_MODEL_82d1db6d99054c9d881111a360b3ead8",
                        "placeholder": "\u200b",
                        "style": "IPY_MODEL_2850e8657f4d408fbb9282e48d9c846b",
                        "value": "Map: 100%"
                    }
                },
                "0b1929334529485b9631b0833ea8b5c6": {
                    "model_module": "@jupyter-widgets/controls",
                    "model_module_version": "1.5.0",
                    "model_name": "DescriptionStyleModel",
                    "state": {
                        "_model_module": "@jupyter-widgets/controls",
                        "_model_module_version": "1.5.0",
                        "_model_name": "DescriptionStyleModel",
                        "_view_count": null,
                        "_view_module": "@jupyter-widgets/base",
                        "_view_module_version": "1.2.0",
                        "_view_name": "StyleView",
                        "description_width": ""
                    }
                },
                "149868f4a7714c539626517933e92ca4": {
                    "model_module": "@jupyter-widgets/controls",
                    "model_module_version": "1.5.0",
                    "model_name": "HTMLModel",
                    "state": {
                        "_dom_classes": [],
                        "_model_module": "@jupyter-widgets/controls",
                        "_model_module_version": "1.5.0",
                        "_model_name": "HTMLModel",
                        "_view_count": null,
                        "_view_module": "@jupyter-widgets/controls",
                        "_view_module_version": "1.5.0",
                        "_view_name": "HTMLView",
                        "description": "",
                        "description_tooltip": null,
                        "layout": "IPY_MODEL_5d0d76eea99044d682737a9d63c05201",
                        "placeholder": "\u200b",
                        "style": "IPY_MODEL_5a124d0d67bf4473ad05d51225fa0505",
                        "value": " 1703/1703 [00:00&lt;00:00, 5683.20 examples/s]"
                    }
                },
                "1524bd2fea5943508571b4a7cf5dde37": {
                    "model_module": "@jupyter-widgets/base",
                    "model_module_version": "1.2.0",
                    "model_name": "LayoutModel",
                    "state": {
                        "_model_module": "@jupyter-widgets/base",
                        "_model_module_version": "1.2.0",
                        "_model_name": "LayoutModel",
                        "_view_count": null,
                        "_view_module": "@jupyter-widgets/base",
                        "_view_module_version": "1.2.0",
                        "_view_name": "LayoutView",
                        "align_content": null,
                        "align_items": null,
                        "align_self": null,
                        "border": null,
                        "bottom": null,
                        "display": null,
                        "flex": null,
                        "flex_flow": null,
                        "grid_area": null,
                        "grid_auto_columns": null,
                        "grid_auto_flow": null,
                        "grid_auto_rows": null,
                        "grid_column": null,
                        "grid_gap": null,
                        "grid_row": null,
                        "grid_template_areas": null,
                        "grid_template_columns": null,
                        "grid_template_rows": null,
                        "height": null,
                        "justify_content": null,
                        "justify_items": null,
                        "left": null,
                        "margin": null,
                        "max_height": null,
                        "max_width": null,
                        "min_height": null,
                        "min_width": null,
                        "object_fit": null,
                        "object_position": null,
                        "order": null,
                        "overflow": null,
                        "overflow_x": null,
                        "overflow_y": null,
                        "padding": null,
                        "right": null,
                        "top": null,
                        "visibility": null,
                        "width": null
                    }
                },
                "16ef16d460244b93a2bf757f12abc31e": {
                    "model_module": "@jupyter-widgets/controls",
                    "model_module_version": "1.5.0",
                    "model_name": "HTMLModel",
                    "state": {
                        "_dom_classes": [],
                        "_model_module": "@jupyter-widgets/controls",
                        "_model_module_version": "1.5.0",
                        "_model_name": "HTMLModel",
                        "_view_count": null,
                        "_view_module": "@jupyter-widgets/controls",
                        "_view_module_version": "1.5.0",
                        "_view_name": "HTMLView",
                        "description": "",
                        "description_tooltip": null,
                        "layout": "IPY_MODEL_bdb03df1255e456d833effa7b70d2a78",
                        "placeholder": "\u200b",
                        "style": "IPY_MODEL_9c5b6b37eb394859ad3492d53895d7c5",
                        "value": " 574/574 [00:00&lt;00:00, 9772.49 examples/s]"
                    }
                },
                "18fd4eee6d4f4111a516f9bfa1ec73d7": {
                    "model_module": "@jupyter-widgets/base",
                    "model_module_version": "1.2.0",
                    "model_name": "LayoutModel",
                    "state": {
                        "_model_module": "@jupyter-widgets/base",
                        "_model_module_version": "1.2.0",
                        "_model_name": "LayoutModel",
                        "_view_count": null,
                        "_view_module": "@jupyter-widgets/base",
                        "_view_module_version": "1.2.0",
                        "_view_name": "LayoutView",
                        "align_content": null,
                        "align_items": null,
                        "align_self": null,
                        "border": null,
                        "bottom": null,
                        "display": null,
                        "flex": null,
                        "flex_flow": null,
                        "grid_area": null,
                        "grid_auto_columns": null,
                        "grid_auto_flow": null,
                        "grid_auto_rows": null,
                        "grid_column": null,
                        "grid_gap": null,
                        "grid_row": null,
                        "grid_template_areas": null,
                        "grid_template_columns": null,
                        "grid_template_rows": null,
                        "height": null,
                        "justify_content": null,
                        "justify_items": null,
                        "left": null,
                        "margin": null,
                        "max_height": null,
                        "max_width": null,
                        "min_height": null,
                        "min_width": null,
                        "object_fit": null,
                        "object_position": null,
                        "order": null,
                        "overflow": null,
                        "overflow_x": null,
                        "overflow_y": null,
                        "padding": null,
                        "right": null,
                        "top": null,
                        "visibility": null,
                        "width": null
                    }
                },
                "19048598a0d245c89afa9740ab5d99f9": {
                    "model_module": "@jupyter-widgets/controls",
                    "model_module_version": "1.5.0",
                    "model_name": "DescriptionStyleModel",
                    "state": {
                        "_model_module": "@jupyter-widgets/controls",
                        "_model_module_version": "1.5.0",
                        "_model_name": "DescriptionStyleModel",
                        "_view_count": null,
                        "_view_module": "@jupyter-widgets/base",
                        "_view_module_version": "1.2.0",
                        "_view_name": "StyleView",
                        "description_width": ""
                    }
                },
                "2231718fa873476aa6a71a668487bfc7": {
                    "model_module": "@jupyter-widgets/base",
                    "model_module_version": "1.2.0",
                    "model_name": "LayoutModel",
                    "state": {
                        "_model_module": "@jupyter-widgets/base",
                        "_model_module_version": "1.2.0",
                        "_model_name": "LayoutModel",
                        "_view_count": null,
                        "_view_module": "@jupyter-widgets/base",
                        "_view_module_version": "1.2.0",
                        "_view_name": "LayoutView",
                        "align_content": null,
                        "align_items": null,
                        "align_self": null,
                        "border": null,
                        "bottom": null,
                        "display": null,
                        "flex": null,
                        "flex_flow": null,
                        "grid_area": null,
                        "grid_auto_columns": null,
                        "grid_auto_flow": null,
                        "grid_auto_rows": null,
                        "grid_column": null,
                        "grid_gap": null,
                        "grid_row": null,
                        "grid_template_areas": null,
                        "grid_template_columns": null,
                        "grid_template_rows": null,
                        "height": null,
                        "justify_content": null,
                        "justify_items": null,
                        "left": null,
                        "margin": null,
                        "max_height": null,
                        "max_width": null,
                        "min_height": null,
                        "min_width": null,
                        "object_fit": null,
                        "object_position": null,
                        "order": null,
                        "overflow": null,
                        "overflow_x": null,
                        "overflow_y": null,
                        "padding": null,
                        "right": null,
                        "top": null,
                        "visibility": null,
                        "width": null
                    }
                },
                "2850e8657f4d408fbb9282e48d9c846b": {
                    "model_module": "@jupyter-widgets/controls",
                    "model_module_version": "1.5.0",
                    "model_name": "DescriptionStyleModel",
                    "state": {
                        "_model_module": "@jupyter-widgets/controls",
                        "_model_module_version": "1.5.0",
                        "_model_name": "DescriptionStyleModel",
                        "_view_count": null,
                        "_view_module": "@jupyter-widgets/base",
                        "_view_module_version": "1.2.0",
                        "_view_name": "StyleView",
                        "description_width": ""
                    }
                },
                "2a6e9037d06941f8b992b566e8508dd7": {
                    "model_module": "@jupyter-widgets/controls",
                    "model_module_version": "1.5.0",
                    "model_name": "FloatProgressModel",
                    "state": {
                        "_dom_classes": [],
                        "_model_module": "@jupyter-widgets/controls",
                        "_model_module_version": "1.5.0",
                        "_model_name": "FloatProgressModel",
                        "_view_count": null,
                        "_view_module": "@jupyter-widgets/controls",
                        "_view_module_version": "1.5.0",
                        "_view_name": "ProgressView",
                        "bar_style": "success",
                        "description": "",
                        "description_tooltip": null,
                        "layout": "IPY_MODEL_18fd4eee6d4f4111a516f9bfa1ec73d7",
                        "max": 577,
                        "min": 0,
                        "orientation": "horizontal",
                        "style": "IPY_MODEL_50753e35c7e84bd5852607ae330481b0",
                        "value": 577
                    }
                },
                "3197343775bb4d09a7036f8ae3a2b835": {
                    "model_module": "@jupyter-widgets/controls",
                    "model_module_version": "1.5.0",
                    "model_name": "FloatProgressModel",
                    "state": {
                        "_dom_classes": [],
                        "_model_module": "@jupyter-widgets/controls",
                        "_model_module_version": "1.5.0",
                        "_model_name": "FloatProgressModel",
                        "_view_count": null,
                        "_view_module": "@jupyter-widgets/controls",
                        "_view_module_version": "1.5.0",
                        "_view_name": "ProgressView",
                        "bar_style": "success",
                        "description": "",
                        "description_tooltip": null,
                        "layout": "IPY_MODEL_eb87ab773f374a5c845d41b16a38c96c",
                        "max": 574,
                        "min": 0,
                        "orientation": "horizontal",
                        "style": "IPY_MODEL_db5ddfe4a1724aedacf2608add2d17b1",
                        "value": 574
                    }
                },
                "34c2c4053b514fc9b29034b0a5f80f5c": {
                    "model_module": "@jupyter-widgets/controls",
                    "model_module_version": "1.5.0",
                    "model_name": "HTMLModel",
                    "state": {
                        "_dom_classes": [],
                        "_model_module": "@jupyter-widgets/controls",
                        "_model_module_version": "1.5.0",
                        "_model_name": "HTMLModel",
                        "_view_count": null,
                        "_view_module": "@jupyter-widgets/controls",
                        "_view_module_version": "1.5.0",
                        "_view_name": "HTMLView",
                        "description": "",
                        "description_tooltip": null,
                        "layout": "IPY_MODEL_1524bd2fea5943508571b4a7cf5dde37",
                        "placeholder": "\u200b",
                        "style": "IPY_MODEL_19048598a0d245c89afa9740ab5d99f9",
                        "value": "Saving the dataset (1/1 shards): 100%"
                    }
                },
                "365d1749578b48349eafe19543f04883": {
                    "model_module": "@jupyter-widgets/controls",
                    "model_module_version": "1.5.0",
                    "model_name": "ProgressStyleModel",
                    "state": {
                        "_model_module": "@jupyter-widgets/controls",
                        "_model_module_version": "1.5.0",
                        "_model_name": "ProgressStyleModel",
                        "_view_count": null,
                        "_view_module": "@jupyter-widgets/base",
                        "_view_module_version": "1.2.0",
                        "_view_name": "StyleView",
                        "bar_color": null,
                        "description_width": ""
                    }
                },
                "3b68f3da14fa4c78ad65d9b2535da843": {
                    "model_module": "@jupyter-widgets/controls",
                    "model_module_version": "1.5.0",
                    "model_name": "HTMLModel",
                    "state": {
                        "_dom_classes": [],
                        "_model_module": "@jupyter-widgets/controls",
                        "_model_module_version": "1.5.0",
                        "_model_name": "HTMLModel",
                        "_view_count": null,
                        "_view_module": "@jupyter-widgets/controls",
                        "_view_module_version": "1.5.0",
                        "_view_name": "HTMLView",
                        "description": "",
                        "description_tooltip": null,
                        "layout": "IPY_MODEL_ea352fa83f144c2f9471a519ef32552f",
                        "placeholder": "\u200b",
                        "style": "IPY_MODEL_4050c8e21b78485b80aa3a71bc8c6936",
                        "value": "Saving the dataset (1/1 shards): 100%"
                    }
                },
                "3b79b2db78174ee1961923858c114628": {
                    "model_module": "@jupyter-widgets/controls",
                    "model_module_version": "1.5.0",
                    "model_name": "HTMLModel",
                    "state": {
                        "_dom_classes": [],
                        "_model_module": "@jupyter-widgets/controls",
                        "_model_module_version": "1.5.0",
                        "_model_name": "HTMLModel",
                        "_view_count": null,
                        "_view_module": "@jupyter-widgets/controls",
                        "_view_module_version": "1.5.0",
                        "_view_name": "HTMLView",
                        "description": "",
                        "description_tooltip": null,
                        "layout": "IPY_MODEL_c1d3eeba50084fad9c64f50b6906e66d",
                        "placeholder": "\u200b",
                        "style": "IPY_MODEL_a300ad8bfbdc49ab83a648387883d563",
                        "value": "Saving the dataset (1/1 shards): 100%"
                    }
                },
                "4050c8e21b78485b80aa3a71bc8c6936": {
                    "model_module": "@jupyter-widgets/controls",
                    "model_module_version": "1.5.0",
                    "model_name": "DescriptionStyleModel",
                    "state": {
                        "_model_module": "@jupyter-widgets/controls",
                        "_model_module_version": "1.5.0",
                        "_model_name": "DescriptionStyleModel",
                        "_view_count": null,
                        "_view_module": "@jupyter-widgets/base",
                        "_view_module_version": "1.2.0",
                        "_view_name": "StyleView",
                        "description_width": ""
                    }
                },
                "415646d38a1b47b8a423077dd67ab6cc": {
                    "model_module": "@jupyter-widgets/base",
                    "model_module_version": "1.2.0",
                    "model_name": "LayoutModel",
                    "state": {
                        "_model_module": "@jupyter-widgets/base",
                        "_model_module_version": "1.2.0",
                        "_model_name": "LayoutModel",
                        "_view_count": null,
                        "_view_module": "@jupyter-widgets/base",
                        "_view_module_version": "1.2.0",
                        "_view_name": "LayoutView",
                        "align_content": null,
                        "align_items": null,
                        "align_self": null,
                        "border": null,
                        "bottom": null,
                        "display": null,
                        "flex": null,
                        "flex_flow": null,
                        "grid_area": null,
                        "grid_auto_columns": null,
                        "grid_auto_flow": null,
                        "grid_auto_rows": null,
                        "grid_column": null,
                        "grid_gap": null,
                        "grid_row": null,
                        "grid_template_areas": null,
                        "grid_template_columns": null,
                        "grid_template_rows": null,
                        "height": null,
                        "justify_content": null,
                        "justify_items": null,
                        "left": null,
                        "margin": null,
                        "max_height": null,
                        "max_width": null,
                        "min_height": null,
                        "min_width": null,
                        "object_fit": null,
                        "object_position": null,
                        "order": null,
                        "overflow": null,
                        "overflow_x": null,
                        "overflow_y": null,
                        "padding": null,
                        "right": null,
                        "top": null,
                        "visibility": null,
                        "width": null
                    }
                },
                "49002a68b30f4052bc1bb5de80b52050": {
                    "model_module": "@jupyter-widgets/controls",
                    "model_module_version": "1.5.0",
                    "model_name": "DescriptionStyleModel",
                    "state": {
                        "_model_module": "@jupyter-widgets/controls",
                        "_model_module_version": "1.5.0",
                        "_model_name": "DescriptionStyleModel",
                        "_view_count": null,
                        "_view_module": "@jupyter-widgets/base",
                        "_view_module_version": "1.2.0",
                        "_view_name": "StyleView",
                        "description_width": ""
                    }
                },
                "50753e35c7e84bd5852607ae330481b0": {
                    "model_module": "@jupyter-widgets/controls",
                    "model_module_version": "1.5.0",
                    "model_name": "ProgressStyleModel",
                    "state": {
                        "_model_module": "@jupyter-widgets/controls",
                        "_model_module_version": "1.5.0",
                        "_model_name": "ProgressStyleModel",
                        "_view_count": null,
                        "_view_module": "@jupyter-widgets/base",
                        "_view_module_version": "1.2.0",
                        "_view_name": "StyleView",
                        "bar_color": null,
                        "description_width": ""
                    }
                },
                "5a124d0d67bf4473ad05d51225fa0505": {
                    "model_module": "@jupyter-widgets/controls",
                    "model_module_version": "1.5.0",
                    "model_name": "DescriptionStyleModel",
                    "state": {
                        "_model_module": "@jupyter-widgets/controls",
                        "_model_module_version": "1.5.0",
                        "_model_name": "DescriptionStyleModel",
                        "_view_count": null,
                        "_view_module": "@jupyter-widgets/base",
                        "_view_module_version": "1.2.0",
                        "_view_name": "StyleView",
                        "description_width": ""
                    }
                },
                "5d0d76eea99044d682737a9d63c05201": {
                    "model_module": "@jupyter-widgets/base",
                    "model_module_version": "1.2.0",
                    "model_name": "LayoutModel",
                    "state": {
                        "_model_module": "@jupyter-widgets/base",
                        "_model_module_version": "1.2.0",
                        "_model_name": "LayoutModel",
                        "_view_count": null,
                        "_view_module": "@jupyter-widgets/base",
                        "_view_module_version": "1.2.0",
                        "_view_name": "LayoutView",
                        "align_content": null,
                        "align_items": null,
                        "align_self": null,
                        "border": null,
                        "bottom": null,
                        "display": null,
                        "flex": null,
                        "flex_flow": null,
                        "grid_area": null,
                        "grid_auto_columns": null,
                        "grid_auto_flow": null,
                        "grid_auto_rows": null,
                        "grid_column": null,
                        "grid_gap": null,
                        "grid_row": null,
                        "grid_template_areas": null,
                        "grid_template_columns": null,
                        "grid_template_rows": null,
                        "height": null,
                        "justify_content": null,
                        "justify_items": null,
                        "left": null,
                        "margin": null,
                        "max_height": null,
                        "max_width": null,
                        "min_height": null,
                        "min_width": null,
                        "object_fit": null,
                        "object_position": null,
                        "order": null,
                        "overflow": null,
                        "overflow_x": null,
                        "overflow_y": null,
                        "padding": null,
                        "right": null,
                        "top": null,
                        "visibility": null,
                        "width": null
                    }
                },
                "5fc02e6affae441eb441004974bae8a4": {
                    "model_module": "@jupyter-widgets/base",
                    "model_module_version": "1.2.0",
                    "model_name": "LayoutModel",
                    "state": {
                        "_model_module": "@jupyter-widgets/base",
                        "_model_module_version": "1.2.0",
                        "_model_name": "LayoutModel",
                        "_view_count": null,
                        "_view_module": "@jupyter-widgets/base",
                        "_view_module_version": "1.2.0",
                        "_view_name": "LayoutView",
                        "align_content": null,
                        "align_items": null,
                        "align_self": null,
                        "border": null,
                        "bottom": null,
                        "display": null,
                        "flex": null,
                        "flex_flow": null,
                        "grid_area": null,
                        "grid_auto_columns": null,
                        "grid_auto_flow": null,
                        "grid_auto_rows": null,
                        "grid_column": null,
                        "grid_gap": null,
                        "grid_row": null,
                        "grid_template_areas": null,
                        "grid_template_columns": null,
                        "grid_template_rows": null,
                        "height": null,
                        "justify_content": null,
                        "justify_items": null,
                        "left": null,
                        "margin": null,
                        "max_height": null,
                        "max_width": null,
                        "min_height": null,
                        "min_width": null,
                        "object_fit": null,
                        "object_position": null,
                        "order": null,
                        "overflow": null,
                        "overflow_x": null,
                        "overflow_y": null,
                        "padding": null,
                        "right": null,
                        "top": null,
                        "visibility": null,
                        "width": null
                    }
                },
                "63b30583b37f4f5fbcbe8f793050c6ed": {
                    "model_module": "@jupyter-widgets/controls",
                    "model_module_version": "1.5.0",
                    "model_name": "DescriptionStyleModel",
                    "state": {
                        "_model_module": "@jupyter-widgets/controls",
                        "_model_module_version": "1.5.0",
                        "_model_name": "DescriptionStyleModel",
                        "_view_count": null,
                        "_view_module": "@jupyter-widgets/base",
                        "_view_module_version": "1.2.0",
                        "_view_name": "StyleView",
                        "description_width": ""
                    }
                },
                "67f272455f7f48d3b322658208acca16": {
                    "model_module": "@jupyter-widgets/controls",
                    "model_module_version": "1.5.0",
                    "model_name": "FloatProgressModel",
                    "state": {
                        "_dom_classes": [],
                        "_model_module": "@jupyter-widgets/controls",
                        "_model_module_version": "1.5.0",
                        "_model_name": "FloatProgressModel",
                        "_view_count": null,
                        "_view_module": "@jupyter-widgets/controls",
                        "_view_module_version": "1.5.0",
                        "_view_name": "ProgressView",
                        "bar_style": "success",
                        "description": "",
                        "description_tooltip": null,
                        "layout": "IPY_MODEL_7e34c928398d4db58f7131a8bde08914",
                        "max": 1703,
                        "min": 0,
                        "orientation": "horizontal",
                        "style": "IPY_MODEL_365d1749578b48349eafe19543f04883",
                        "value": 1703
                    }
                },
                "68b5bd9814ab428e9f7de29e544050c3": {
                    "model_module": "@jupyter-widgets/base",
                    "model_module_version": "1.2.0",
                    "model_name": "LayoutModel",
                    "state": {
                        "_model_module": "@jupyter-widgets/base",
                        "_model_module_version": "1.2.0",
                        "_model_name": "LayoutModel",
                        "_view_count": null,
                        "_view_module": "@jupyter-widgets/base",
                        "_view_module_version": "1.2.0",
                        "_view_name": "LayoutView",
                        "align_content": null,
                        "align_items": null,
                        "align_self": null,
                        "border": null,
                        "bottom": null,
                        "display": null,
                        "flex": null,
                        "flex_flow": null,
                        "grid_area": null,
                        "grid_auto_columns": null,
                        "grid_auto_flow": null,
                        "grid_auto_rows": null,
                        "grid_column": null,
                        "grid_gap": null,
                        "grid_row": null,
                        "grid_template_areas": null,
                        "grid_template_columns": null,
                        "grid_template_rows": null,
                        "height": null,
                        "justify_content": null,
                        "justify_items": null,
                        "left": null,
                        "margin": null,
                        "max_height": null,
                        "max_width": null,
                        "min_height": null,
                        "min_width": null,
                        "object_fit": null,
                        "object_position": null,
                        "order": null,
                        "overflow": null,
                        "overflow_x": null,
                        "overflow_y": null,
                        "padding": null,
                        "right": null,
                        "top": null,
                        "visibility": null,
                        "width": null
                    }
                },
                "699d752f945e4c8c8891dca1cc4576e1": {
                    "model_module": "@jupyter-widgets/controls",
                    "model_module_version": "1.5.0",
                    "model_name": "FloatProgressModel",
                    "state": {
                        "_dom_classes": [],
                        "_model_module": "@jupyter-widgets/controls",
                        "_model_module_version": "1.5.0",
                        "_model_name": "FloatProgressModel",
                        "_view_count": null,
                        "_view_module": "@jupyter-widgets/controls",
                        "_view_module_version": "1.5.0",
                        "_view_name": "ProgressView",
                        "bar_style": "success",
                        "description": "",
                        "description_tooltip": null,
                        "layout": "IPY_MODEL_5fc02e6affae441eb441004974bae8a4",
                        "max": 577,
                        "min": 0,
                        "orientation": "horizontal",
                        "style": "IPY_MODEL_f7c5dfb42fd34752aa779d002cefba56",
                        "value": 577
                    }
                },
                "6fb5f244f4c843f3b31776ca25fd3165": {
                    "model_module": "@jupyter-widgets/controls",
                    "model_module_version": "1.5.0",
                    "model_name": "HTMLModel",
                    "state": {
                        "_dom_classes": [],
                        "_model_module": "@jupyter-widgets/controls",
                        "_model_module_version": "1.5.0",
                        "_model_name": "HTMLModel",
                        "_view_count": null,
                        "_view_module": "@jupyter-widgets/controls",
                        "_view_module_version": "1.5.0",
                        "_view_name": "HTMLView",
                        "description": "",
                        "description_tooltip": null,
                        "layout": "IPY_MODEL_415646d38a1b47b8a423077dd67ab6cc",
                        "placeholder": "\u200b",
                        "style": "IPY_MODEL_0b1929334529485b9631b0833ea8b5c6",
                        "value": " 577/577 [00:00&lt;00:00, 10207.49 examples/s]"
                    }
                },
                "7174483d1bd74e8298fc04f88e40d293": {
                    "model_module": "@jupyter-widgets/controls",
                    "model_module_version": "1.5.0",
                    "model_name": "HBoxModel",
                    "state": {
                        "_dom_classes": [],
                        "_model_module": "@jupyter-widgets/controls",
                        "_model_module_version": "1.5.0",
                        "_model_name": "HBoxModel",
                        "_view_count": null,
                        "_view_module": "@jupyter-widgets/controls",
                        "_view_module_version": "1.5.0",
                        "_view_name": "HBoxView",
                        "box_style": "",
                        "children": [
                            "IPY_MODEL_3b79b2db78174ee1961923858c114628",
                            "IPY_MODEL_67f272455f7f48d3b322658208acca16",
                            "IPY_MODEL_766a8d7b17db4e0eba9b92570f400ee3"
                        ],
                        "layout": "IPY_MODEL_2231718fa873476aa6a71a668487bfc7"
                    }
                },
                "762dcecf80c54ee28e41565d67a38cb1": {
                    "model_module": "@jupyter-widgets/controls",
                    "model_module_version": "1.5.0",
                    "model_name": "ProgressStyleModel",
                    "state": {
                        "_model_module": "@jupyter-widgets/controls",
                        "_model_module_version": "1.5.0",
                        "_model_name": "ProgressStyleModel",
                        "_view_count": null,
                        "_view_module": "@jupyter-widgets/base",
                        "_view_module_version": "1.2.0",
                        "_view_name": "StyleView",
                        "bar_color": null,
                        "description_width": ""
                    }
                },
                "766a8d7b17db4e0eba9b92570f400ee3": {
                    "model_module": "@jupyter-widgets/controls",
                    "model_module_version": "1.5.0",
                    "model_name": "HTMLModel",
                    "state": {
                        "_dom_classes": [],
                        "_model_module": "@jupyter-widgets/controls",
                        "_model_module_version": "1.5.0",
                        "_model_name": "HTMLModel",
                        "_view_count": null,
                        "_view_module": "@jupyter-widgets/controls",
                        "_view_module_version": "1.5.0",
                        "_view_name": "HTMLView",
                        "description": "",
                        "description_tooltip": null,
                        "layout": "IPY_MODEL_815bd1ff20354cf2b1f7a1311ca387f7",
                        "placeholder": "\u200b",
                        "style": "IPY_MODEL_63b30583b37f4f5fbcbe8f793050c6ed",
                        "value": " 1703/1703 [00:00&lt;00:00, 19180.36 examples/s]"
                    }
                },
                "7bc1c0b0005b4520bafd2a016148887c": {
                    "model_module": "@jupyter-widgets/controls",
                    "model_module_version": "1.5.0",
                    "model_name": "HTMLModel",
                    "state": {
                        "_dom_classes": [],
                        "_model_module": "@jupyter-widgets/controls",
                        "_model_module_version": "1.5.0",
                        "_model_name": "HTMLModel",
                        "_view_count": null,
                        "_view_module": "@jupyter-widgets/controls",
                        "_view_module_version": "1.5.0",
                        "_view_name": "HTMLView",
                        "description": "",
                        "description_tooltip": null,
                        "layout": "IPY_MODEL_e3a15f6b50df43b6987fd8810ed9fcd1",
                        "placeholder": "\u200b",
                        "style": "IPY_MODEL_49002a68b30f4052bc1bb5de80b52050",
                        "value": "Map: 100%"
                    }
                },
                "7d4a13858c7847a194fa5efa1bfd7cc9": {
                    "model_module": "@jupyter-widgets/base",
                    "model_module_version": "1.2.0",
                    "model_name": "LayoutModel",
                    "state": {
                        "_model_module": "@jupyter-widgets/base",
                        "_model_module_version": "1.2.0",
                        "_model_name": "LayoutModel",
                        "_view_count": null,
                        "_view_module": "@jupyter-widgets/base",
                        "_view_module_version": "1.2.0",
                        "_view_name": "LayoutView",
                        "align_content": null,
                        "align_items": null,
                        "align_self": null,
                        "border": null,
                        "bottom": null,
                        "display": null,
                        "flex": null,
                        "flex_flow": null,
                        "grid_area": null,
                        "grid_auto_columns": null,
                        "grid_auto_flow": null,
                        "grid_auto_rows": null,
                        "grid_column": null,
                        "grid_gap": null,
                        "grid_row": null,
                        "grid_template_areas": null,
                        "grid_template_columns": null,
                        "grid_template_rows": null,
                        "height": null,
                        "justify_content": null,
                        "justify_items": null,
                        "left": null,
                        "margin": null,
                        "max_height": null,
                        "max_width": null,
                        "min_height": null,
                        "min_width": null,
                        "object_fit": null,
                        "object_position": null,
                        "order": null,
                        "overflow": null,
                        "overflow_x": null,
                        "overflow_y": null,
                        "padding": null,
                        "right": null,
                        "top": null,
                        "visibility": null,
                        "width": null
                    }
                },
                "7e34c928398d4db58f7131a8bde08914": {
                    "model_module": "@jupyter-widgets/base",
                    "model_module_version": "1.2.0",
                    "model_name": "LayoutModel",
                    "state": {
                        "_model_module": "@jupyter-widgets/base",
                        "_model_module_version": "1.2.0",
                        "_model_name": "LayoutModel",
                        "_view_count": null,
                        "_view_module": "@jupyter-widgets/base",
                        "_view_module_version": "1.2.0",
                        "_view_name": "LayoutView",
                        "align_content": null,
                        "align_items": null,
                        "align_self": null,
                        "border": null,
                        "bottom": null,
                        "display": null,
                        "flex": null,
                        "flex_flow": null,
                        "grid_area": null,
                        "grid_auto_columns": null,
                        "grid_auto_flow": null,
                        "grid_auto_rows": null,
                        "grid_column": null,
                        "grid_gap": null,
                        "grid_row": null,
                        "grid_template_areas": null,
                        "grid_template_columns": null,
                        "grid_template_rows": null,
                        "height": null,
                        "justify_content": null,
                        "justify_items": null,
                        "left": null,
                        "margin": null,
                        "max_height": null,
                        "max_width": null,
                        "min_height": null,
                        "min_width": null,
                        "object_fit": null,
                        "object_position": null,
                        "order": null,
                        "overflow": null,
                        "overflow_x": null,
                        "overflow_y": null,
                        "padding": null,
                        "right": null,
                        "top": null,
                        "visibility": null,
                        "width": null
                    }
                },
                "815bd1ff20354cf2b1f7a1311ca387f7": {
                    "model_module": "@jupyter-widgets/base",
                    "model_module_version": "1.2.0",
                    "model_name": "LayoutModel",
                    "state": {
                        "_model_module": "@jupyter-widgets/base",
                        "_model_module_version": "1.2.0",
                        "_model_name": "LayoutModel",
                        "_view_count": null,
                        "_view_module": "@jupyter-widgets/base",
                        "_view_module_version": "1.2.0",
                        "_view_name": "LayoutView",
                        "align_content": null,
                        "align_items": null,
                        "align_self": null,
                        "border": null,
                        "bottom": null,
                        "display": null,
                        "flex": null,
                        "flex_flow": null,
                        "grid_area": null,
                        "grid_auto_columns": null,
                        "grid_auto_flow": null,
                        "grid_auto_rows": null,
                        "grid_column": null,
                        "grid_gap": null,
                        "grid_row": null,
                        "grid_template_areas": null,
                        "grid_template_columns": null,
                        "grid_template_rows": null,
                        "height": null,
                        "justify_content": null,
                        "justify_items": null,
                        "left": null,
                        "margin": null,
                        "max_height": null,
                        "max_width": null,
                        "min_height": null,
                        "min_width": null,
                        "object_fit": null,
                        "object_position": null,
                        "order": null,
                        "overflow": null,
                        "overflow_x": null,
                        "overflow_y": null,
                        "padding": null,
                        "right": null,
                        "top": null,
                        "visibility": null,
                        "width": null
                    }
                },
                "82d1db6d99054c9d881111a360b3ead8": {
                    "model_module": "@jupyter-widgets/base",
                    "model_module_version": "1.2.0",
                    "model_name": "LayoutModel",
                    "state": {
                        "_model_module": "@jupyter-widgets/base",
                        "_model_module_version": "1.2.0",
                        "_model_name": "LayoutModel",
                        "_view_count": null,
                        "_view_module": "@jupyter-widgets/base",
                        "_view_module_version": "1.2.0",
                        "_view_name": "LayoutView",
                        "align_content": null,
                        "align_items": null,
                        "align_self": null,
                        "border": null,
                        "bottom": null,
                        "display": null,
                        "flex": null,
                        "flex_flow": null,
                        "grid_area": null,
                        "grid_auto_columns": null,
                        "grid_auto_flow": null,
                        "grid_auto_rows": null,
                        "grid_column": null,
                        "grid_gap": null,
                        "grid_row": null,
                        "grid_template_areas": null,
                        "grid_template_columns": null,
                        "grid_template_rows": null,
                        "height": null,
                        "justify_content": null,
                        "justify_items": null,
                        "left": null,
                        "margin": null,
                        "max_height": null,
                        "max_width": null,
                        "min_height": null,
                        "min_width": null,
                        "object_fit": null,
                        "object_position": null,
                        "order": null,
                        "overflow": null,
                        "overflow_x": null,
                        "overflow_y": null,
                        "padding": null,
                        "right": null,
                        "top": null,
                        "visibility": null,
                        "width": null
                    }
                },
                "908d9ea68b27427ca947da510deb246a": {
                    "model_module": "@jupyter-widgets/controls",
                    "model_module_version": "1.5.0",
                    "model_name": "DescriptionStyleModel",
                    "state": {
                        "_model_module": "@jupyter-widgets/controls",
                        "_model_module_version": "1.5.0",
                        "_model_name": "DescriptionStyleModel",
                        "_view_count": null,
                        "_view_module": "@jupyter-widgets/base",
                        "_view_module_version": "1.2.0",
                        "_view_name": "StyleView",
                        "description_width": ""
                    }
                },
                "9abe3562e99941a78f7651655ba3e0a0": {
                    "model_module": "@jupyter-widgets/base",
                    "model_module_version": "1.2.0",
                    "model_name": "LayoutModel",
                    "state": {
                        "_model_module": "@jupyter-widgets/base",
                        "_model_module_version": "1.2.0",
                        "_model_name": "LayoutModel",
                        "_view_count": null,
                        "_view_module": "@jupyter-widgets/base",
                        "_view_module_version": "1.2.0",
                        "_view_name": "LayoutView",
                        "align_content": null,
                        "align_items": null,
                        "align_self": null,
                        "border": null,
                        "bottom": null,
                        "display": null,
                        "flex": null,
                        "flex_flow": null,
                        "grid_area": null,
                        "grid_auto_columns": null,
                        "grid_auto_flow": null,
                        "grid_auto_rows": null,
                        "grid_column": null,
                        "grid_gap": null,
                        "grid_row": null,
                        "grid_template_areas": null,
                        "grid_template_columns": null,
                        "grid_template_rows": null,
                        "height": null,
                        "justify_content": null,
                        "justify_items": null,
                        "left": null,
                        "margin": null,
                        "max_height": null,
                        "max_width": null,
                        "min_height": null,
                        "min_width": null,
                        "object_fit": null,
                        "object_position": null,
                        "order": null,
                        "overflow": null,
                        "overflow_x": null,
                        "overflow_y": null,
                        "padding": null,
                        "right": null,
                        "top": null,
                        "visibility": null,
                        "width": null
                    }
                },
                "9bc4c94622ff4dda86e08d0a23f77f05": {
                    "model_module": "@jupyter-widgets/base",
                    "model_module_version": "1.2.0",
                    "model_name": "LayoutModel",
                    "state": {
                        "_model_module": "@jupyter-widgets/base",
                        "_model_module_version": "1.2.0",
                        "_model_name": "LayoutModel",
                        "_view_count": null,
                        "_view_module": "@jupyter-widgets/base",
                        "_view_module_version": "1.2.0",
                        "_view_name": "LayoutView",
                        "align_content": null,
                        "align_items": null,
                        "align_self": null,
                        "border": null,
                        "bottom": null,
                        "display": null,
                        "flex": null,
                        "flex_flow": null,
                        "grid_area": null,
                        "grid_auto_columns": null,
                        "grid_auto_flow": null,
                        "grid_auto_rows": null,
                        "grid_column": null,
                        "grid_gap": null,
                        "grid_row": null,
                        "grid_template_areas": null,
                        "grid_template_columns": null,
                        "grid_template_rows": null,
                        "height": null,
                        "justify_content": null,
                        "justify_items": null,
                        "left": null,
                        "margin": null,
                        "max_height": null,
                        "max_width": null,
                        "min_height": null,
                        "min_width": null,
                        "object_fit": null,
                        "object_position": null,
                        "order": null,
                        "overflow": null,
                        "overflow_x": null,
                        "overflow_y": null,
                        "padding": null,
                        "right": null,
                        "top": null,
                        "visibility": null,
                        "width": null
                    }
                },
                "9c5b6b37eb394859ad3492d53895d7c5": {
                    "model_module": "@jupyter-widgets/controls",
                    "model_module_version": "1.5.0",
                    "model_name": "DescriptionStyleModel",
                    "state": {
                        "_model_module": "@jupyter-widgets/controls",
                        "_model_module_version": "1.5.0",
                        "_model_name": "DescriptionStyleModel",
                        "_view_count": null,
                        "_view_module": "@jupyter-widgets/base",
                        "_view_module_version": "1.2.0",
                        "_view_name": "StyleView",
                        "description_width": ""
                    }
                },
                "a300ad8bfbdc49ab83a648387883d563": {
                    "model_module": "@jupyter-widgets/controls",
                    "model_module_version": "1.5.0",
                    "model_name": "DescriptionStyleModel",
                    "state": {
                        "_model_module": "@jupyter-widgets/controls",
                        "_model_module_version": "1.5.0",
                        "_model_name": "DescriptionStyleModel",
                        "_view_count": null,
                        "_view_module": "@jupyter-widgets/base",
                        "_view_module_version": "1.2.0",
                        "_view_name": "StyleView",
                        "description_width": ""
                    }
                },
                "a4264e2ac8064def8538407710cfb505": {
                    "model_module": "@jupyter-widgets/controls",
                    "model_module_version": "1.5.0",
                    "model_name": "HBoxModel",
                    "state": {
                        "_dom_classes": [],
                        "_model_module": "@jupyter-widgets/controls",
                        "_model_module_version": "1.5.0",
                        "_model_name": "HBoxModel",
                        "_view_count": null,
                        "_view_module": "@jupyter-widgets/controls",
                        "_view_module_version": "1.5.0",
                        "_view_name": "HBoxView",
                        "box_style": "",
                        "children": [
                            "IPY_MODEL_0507773f809f437f95c1bb2a14bee8f3",
                            "IPY_MODEL_b4795f3f287343f79cdb40a87aa55acf",
                            "IPY_MODEL_149868f4a7714c539626517933e92ca4"
                        ],
                        "layout": "IPY_MODEL_7d4a13858c7847a194fa5efa1bfd7cc9"
                    }
                },
                "aa549f010edc4d79afecf3843f022658": {
                    "model_module": "@jupyter-widgets/controls",
                    "model_module_version": "1.5.0",
                    "model_name": "HBoxModel",
                    "state": {
                        "_dom_classes": [],
                        "_model_module": "@jupyter-widgets/controls",
                        "_model_module_version": "1.5.0",
                        "_model_name": "HBoxModel",
                        "_view_count": null,
                        "_view_module": "@jupyter-widgets/controls",
                        "_view_module_version": "1.5.0",
                        "_view_name": "HBoxView",
                        "box_style": "",
                        "children": [
                            "IPY_MODEL_7bc1c0b0005b4520bafd2a016148887c",
                            "IPY_MODEL_699d752f945e4c8c8891dca1cc4576e1",
                            "IPY_MODEL_c7b95116a09349df940a13e21a8e8389"
                        ],
                        "layout": "IPY_MODEL_68b5bd9814ab428e9f7de29e544050c3"
                    }
                },
                "b4795f3f287343f79cdb40a87aa55acf": {
                    "model_module": "@jupyter-widgets/controls",
                    "model_module_version": "1.5.0",
                    "model_name": "FloatProgressModel",
                    "state": {
                        "_dom_classes": [],
                        "_model_module": "@jupyter-widgets/controls",
                        "_model_module_version": "1.5.0",
                        "_model_name": "FloatProgressModel",
                        "_view_count": null,
                        "_view_module": "@jupyter-widgets/controls",
                        "_view_module_version": "1.5.0",
                        "_view_name": "ProgressView",
                        "bar_style": "success",
                        "description": "",
                        "description_tooltip": null,
                        "layout": "IPY_MODEL_9bc4c94622ff4dda86e08d0a23f77f05",
                        "max": 1703,
                        "min": 0,
                        "orientation": "horizontal",
                        "style": "IPY_MODEL_762dcecf80c54ee28e41565d67a38cb1",
                        "value": 1703
                    }
                },
                "bdb03df1255e456d833effa7b70d2a78": {
                    "model_module": "@jupyter-widgets/base",
                    "model_module_version": "1.2.0",
                    "model_name": "LayoutModel",
                    "state": {
                        "_model_module": "@jupyter-widgets/base",
                        "_model_module_version": "1.2.0",
                        "_model_name": "LayoutModel",
                        "_view_count": null,
                        "_view_module": "@jupyter-widgets/base",
                        "_view_module_version": "1.2.0",
                        "_view_name": "LayoutView",
                        "align_content": null,
                        "align_items": null,
                        "align_self": null,
                        "border": null,
                        "bottom": null,
                        "display": null,
                        "flex": null,
                        "flex_flow": null,
                        "grid_area": null,
                        "grid_auto_columns": null,
                        "grid_auto_flow": null,
                        "grid_auto_rows": null,
                        "grid_column": null,
                        "grid_gap": null,
                        "grid_row": null,
                        "grid_template_areas": null,
                        "grid_template_columns": null,
                        "grid_template_rows": null,
                        "height": null,
                        "justify_content": null,
                        "justify_items": null,
                        "left": null,
                        "margin": null,
                        "max_height": null,
                        "max_width": null,
                        "min_height": null,
                        "min_width": null,
                        "object_fit": null,
                        "object_position": null,
                        "order": null,
                        "overflow": null,
                        "overflow_x": null,
                        "overflow_y": null,
                        "padding": null,
                        "right": null,
                        "top": null,
                        "visibility": null,
                        "width": null
                    }
                },
                "c1d3eeba50084fad9c64f50b6906e66d": {
                    "model_module": "@jupyter-widgets/base",
                    "model_module_version": "1.2.0",
                    "model_name": "LayoutModel",
                    "state": {
                        "_model_module": "@jupyter-widgets/base",
                        "_model_module_version": "1.2.0",
                        "_model_name": "LayoutModel",
                        "_view_count": null,
                        "_view_module": "@jupyter-widgets/base",
                        "_view_module_version": "1.2.0",
                        "_view_name": "LayoutView",
                        "align_content": null,
                        "align_items": null,
                        "align_self": null,
                        "border": null,
                        "bottom": null,
                        "display": null,
                        "flex": null,
                        "flex_flow": null,
                        "grid_area": null,
                        "grid_auto_columns": null,
                        "grid_auto_flow": null,
                        "grid_auto_rows": null,
                        "grid_column": null,
                        "grid_gap": null,
                        "grid_row": null,
                        "grid_template_areas": null,
                        "grid_template_columns": null,
                        "grid_template_rows": null,
                        "height": null,
                        "justify_content": null,
                        "justify_items": null,
                        "left": null,
                        "margin": null,
                        "max_height": null,
                        "max_width": null,
                        "min_height": null,
                        "min_width": null,
                        "object_fit": null,
                        "object_position": null,
                        "order": null,
                        "overflow": null,
                        "overflow_x": null,
                        "overflow_y": null,
                        "padding": null,
                        "right": null,
                        "top": null,
                        "visibility": null,
                        "width": null
                    }
                },
                "c7b95116a09349df940a13e21a8e8389": {
                    "model_module": "@jupyter-widgets/controls",
                    "model_module_version": "1.5.0",
                    "model_name": "HTMLModel",
                    "state": {
                        "_dom_classes": [],
                        "_model_module": "@jupyter-widgets/controls",
                        "_model_module_version": "1.5.0",
                        "_model_name": "HTMLModel",
                        "_view_count": null,
                        "_view_module": "@jupyter-widgets/controls",
                        "_view_module_version": "1.5.0",
                        "_view_name": "HTMLView",
                        "description": "",
                        "description_tooltip": null,
                        "layout": "IPY_MODEL_9abe3562e99941a78f7651655ba3e0a0",
                        "placeholder": "\u200b",
                        "style": "IPY_MODEL_908d9ea68b27427ca947da510deb246a",
                        "value": " 577/577 [00:00&lt;00:00, 4692.92 examples/s]"
                    }
                },
                "d2095c66a49b4d8e93541ee06a0b6078": {
                    "model_module": "@jupyter-widgets/controls",
                    "model_module_version": "1.5.0",
                    "model_name": "HBoxModel",
                    "state": {
                        "_dom_classes": [],
                        "_model_module": "@jupyter-widgets/controls",
                        "_model_module_version": "1.5.0",
                        "_model_name": "HBoxModel",
                        "_view_count": null,
                        "_view_module": "@jupyter-widgets/controls",
                        "_view_module_version": "1.5.0",
                        "_view_name": "HBoxView",
                        "box_style": "",
                        "children": [
                            "IPY_MODEL_34c2c4053b514fc9b29034b0a5f80f5c",
                            "IPY_MODEL_2a6e9037d06941f8b992b566e8508dd7",
                            "IPY_MODEL_6fb5f244f4c843f3b31776ca25fd3165"
                        ],
                        "layout": "IPY_MODEL_0143dca86f744d598ad1f5fd6dc46956"
                    }
                },
                "d64be536281d4972baea910efdb3d5da": {
                    "model_module": "@jupyter-widgets/base",
                    "model_module_version": "1.2.0",
                    "model_name": "LayoutModel",
                    "state": {
                        "_model_module": "@jupyter-widgets/base",
                        "_model_module_version": "1.2.0",
                        "_model_name": "LayoutModel",
                        "_view_count": null,
                        "_view_module": "@jupyter-widgets/base",
                        "_view_module_version": "1.2.0",
                        "_view_name": "LayoutView",
                        "align_content": null,
                        "align_items": null,
                        "align_self": null,
                        "border": null,
                        "bottom": null,
                        "display": null,
                        "flex": null,
                        "flex_flow": null,
                        "grid_area": null,
                        "grid_auto_columns": null,
                        "grid_auto_flow": null,
                        "grid_auto_rows": null,
                        "grid_column": null,
                        "grid_gap": null,
                        "grid_row": null,
                        "grid_template_areas": null,
                        "grid_template_columns": null,
                        "grid_template_rows": null,
                        "height": null,
                        "justify_content": null,
                        "justify_items": null,
                        "left": null,
                        "margin": null,
                        "max_height": null,
                        "max_width": null,
                        "min_height": null,
                        "min_width": null,
                        "object_fit": null,
                        "object_position": null,
                        "order": null,
                        "overflow": null,
                        "overflow_x": null,
                        "overflow_y": null,
                        "padding": null,
                        "right": null,
                        "top": null,
                        "visibility": null,
                        "width": null
                    }
                },
                "db5ddfe4a1724aedacf2608add2d17b1": {
                    "model_module": "@jupyter-widgets/controls",
                    "model_module_version": "1.5.0",
                    "model_name": "ProgressStyleModel",
                    "state": {
                        "_model_module": "@jupyter-widgets/controls",
                        "_model_module_version": "1.5.0",
                        "_model_name": "ProgressStyleModel",
                        "_view_count": null,
                        "_view_module": "@jupyter-widgets/base",
                        "_view_module_version": "1.2.0",
                        "_view_name": "StyleView",
                        "bar_color": null,
                        "description_width": ""
                    }
                },
                "e3a15f6b50df43b6987fd8810ed9fcd1": {
                    "model_module": "@jupyter-widgets/base",
                    "model_module_version": "1.2.0",
                    "model_name": "LayoutModel",
                    "state": {
                        "_model_module": "@jupyter-widgets/base",
                        "_model_module_version": "1.2.0",
                        "_model_name": "LayoutModel",
                        "_view_count": null,
                        "_view_module": "@jupyter-widgets/base",
                        "_view_module_version": "1.2.0",
                        "_view_name": "LayoutView",
                        "align_content": null,
                        "align_items": null,
                        "align_self": null,
                        "border": null,
                        "bottom": null,
                        "display": null,
                        "flex": null,
                        "flex_flow": null,
                        "grid_area": null,
                        "grid_auto_columns": null,
                        "grid_auto_flow": null,
                        "grid_auto_rows": null,
                        "grid_column": null,
                        "grid_gap": null,
                        "grid_row": null,
                        "grid_template_areas": null,
                        "grid_template_columns": null,
                        "grid_template_rows": null,
                        "height": null,
                        "justify_content": null,
                        "justify_items": null,
                        "left": null,
                        "margin": null,
                        "max_height": null,
                        "max_width": null,
                        "min_height": null,
                        "min_width": null,
                        "object_fit": null,
                        "object_position": null,
                        "order": null,
                        "overflow": null,
                        "overflow_x": null,
                        "overflow_y": null,
                        "padding": null,
                        "right": null,
                        "top": null,
                        "visibility": null,
                        "width": null
                    }
                },
                "ea352fa83f144c2f9471a519ef32552f": {
                    "model_module": "@jupyter-widgets/base",
                    "model_module_version": "1.2.0",
                    "model_name": "LayoutModel",
                    "state": {
                        "_model_module": "@jupyter-widgets/base",
                        "_model_module_version": "1.2.0",
                        "_model_name": "LayoutModel",
                        "_view_count": null,
                        "_view_module": "@jupyter-widgets/base",
                        "_view_module_version": "1.2.0",
                        "_view_name": "LayoutView",
                        "align_content": null,
                        "align_items": null,
                        "align_self": null,
                        "border": null,
                        "bottom": null,
                        "display": null,
                        "flex": null,
                        "flex_flow": null,
                        "grid_area": null,
                        "grid_auto_columns": null,
                        "grid_auto_flow": null,
                        "grid_auto_rows": null,
                        "grid_column": null,
                        "grid_gap": null,
                        "grid_row": null,
                        "grid_template_areas": null,
                        "grid_template_columns": null,
                        "grid_template_rows": null,
                        "height": null,
                        "justify_content": null,
                        "justify_items": null,
                        "left": null,
                        "margin": null,
                        "max_height": null,
                        "max_width": null,
                        "min_height": null,
                        "min_width": null,
                        "object_fit": null,
                        "object_position": null,
                        "order": null,
                        "overflow": null,
                        "overflow_x": null,
                        "overflow_y": null,
                        "padding": null,
                        "right": null,
                        "top": null,
                        "visibility": null,
                        "width": null
                    }
                },
                "eb87ab773f374a5c845d41b16a38c96c": {
                    "model_module": "@jupyter-widgets/base",
                    "model_module_version": "1.2.0",
                    "model_name": "LayoutModel",
                    "state": {
                        "_model_module": "@jupyter-widgets/base",
                        "_model_module_version": "1.2.0",
                        "_model_name": "LayoutModel",
                        "_view_count": null,
                        "_view_module": "@jupyter-widgets/base",
                        "_view_module_version": "1.2.0",
                        "_view_name": "LayoutView",
                        "align_content": null,
                        "align_items": null,
                        "align_self": null,
                        "border": null,
                        "bottom": null,
                        "display": null,
                        "flex": null,
                        "flex_flow": null,
                        "grid_area": null,
                        "grid_auto_columns": null,
                        "grid_auto_flow": null,
                        "grid_auto_rows": null,
                        "grid_column": null,
                        "grid_gap": null,
                        "grid_row": null,
                        "grid_template_areas": null,
                        "grid_template_columns": null,
                        "grid_template_rows": null,
                        "height": null,
                        "justify_content": null,
                        "justify_items": null,
                        "left": null,
                        "margin": null,
                        "max_height": null,
                        "max_width": null,
                        "min_height": null,
                        "min_width": null,
                        "object_fit": null,
                        "object_position": null,
                        "order": null,
                        "overflow": null,
                        "overflow_x": null,
                        "overflow_y": null,
                        "padding": null,
                        "right": null,
                        "top": null,
                        "visibility": null,
                        "width": null
                    }
                },
                "f041b4fa15ab48e88f0b31f315a4ccfe": {
                    "model_module": "@jupyter-widgets/controls",
                    "model_module_version": "1.5.0",
                    "model_name": "HBoxModel",
                    "state": {
                        "_dom_classes": [],
                        "_model_module": "@jupyter-widgets/controls",
                        "_model_module_version": "1.5.0",
                        "_model_name": "HBoxModel",
                        "_view_count": null,
                        "_view_module": "@jupyter-widgets/controls",
                        "_view_module_version": "1.5.0",
                        "_view_name": "HBoxView",
                        "box_style": "",
                        "children": [
                            "IPY_MODEL_3b68f3da14fa4c78ad65d9b2535da843",
                            "IPY_MODEL_3197343775bb4d09a7036f8ae3a2b835",
                            "IPY_MODEL_16ef16d460244b93a2bf757f12abc31e"
                        ],
                        "layout": "IPY_MODEL_d64be536281d4972baea910efdb3d5da"
                    }
                },
                "f7c5dfb42fd34752aa779d002cefba56": {
                    "model_module": "@jupyter-widgets/controls",
                    "model_module_version": "1.5.0",
                    "model_name": "ProgressStyleModel",
                    "state": {
                        "_model_module": "@jupyter-widgets/controls",
                        "_model_module_version": "1.5.0",
                        "_model_name": "ProgressStyleModel",
                        "_view_count": null,
                        "_view_module": "@jupyter-widgets/base",
                        "_view_module_version": "1.2.0",
                        "_view_name": "StyleView",
                        "bar_color": null,
                        "description_width": ""
                    }
                }
            }
        }
    },
    "nbformat": 4,
    "nbformat_minor": 0
}
